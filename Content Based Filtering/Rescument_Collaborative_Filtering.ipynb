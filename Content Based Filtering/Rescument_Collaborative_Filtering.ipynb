{
  "cells": [
    {
      "cell_type": "markdown",
      "source": [
        "## **1. IMPORT LIBRARY**"
      ],
      "metadata": {
        "id": "lJTjNBKLhRFV"
      }
    },
    {
      "cell_type": "code",
      "execution_count": 1,
      "metadata": {
        "id": "pJcKFQdTBbnt"
      },
      "outputs": [],
      "source": [
        "# Untuk pengolahan data\n",
        "import pandas as pd\n",
        "import numpy as np\n",
        "from zipfile import ZipFile\n",
        "from pathlib import Path\n",
        "\n",
        "# Untuk visualisasi data\n",
        "import seaborn as sns\n",
        "import matplotlib.pyplot as plt\n",
        "\n",
        "%matplotlib inline\n",
        "sns.set_palette('Set1')\n",
        "sns.set()\n",
        "\n",
        "# Untuk pemodelan\n",
        "import tensorflow as tf\n",
        "from tensorflow import keras\n",
        "from tensorflow.keras import layers\n",
        "\n",
        "# Untuk menghilangkan warnings saat plotting seaborn\n",
        "import warnings\n",
        "warnings.filterwarnings('ignore')\n",
        "\n",
        "# Untuk mengupload file\n",
        "import os"
      ]
    },
    {
      "cell_type": "markdown",
      "metadata": {
        "id": "aklCiOFZ3W0d"
      },
      "source": [
        "## **2. UPLOAD DATASET**"
      ]
    },
    {
      "cell_type": "code",
      "execution_count": 2,
      "metadata": {
        "id": "XvdM9AEb0xuX"
      },
      "outputs": [],
      "source": [
        "df = pd.read_csv('wisbud_yogya.csv')\n",
        "df = pd.read_csv('user_wisbud.csv')\n",
        "df = pd.read_csv('rating_wisbud.csv')"
      ]
    },
    {
      "cell_type": "markdown",
      "metadata": {
        "id": "GvUjc2Mp38kJ"
      },
      "source": [
        "## **3. DATA UNDERSTANDING**"
      ]
    },
    {
      "cell_type": "markdown",
      "source": [
        "3.1 Menyiapkan Data"
      ],
      "metadata": {
        "id": "xfvTKhD6lTCW"
      }
    },
    {
      "cell_type": "code",
      "execution_count": 3,
      "metadata": {
        "id": "p5iUdxLG08h4"
      },
      "outputs": [],
      "source": [
        "# Menyimpan masing-masing dataset kedalam variabel\n",
        "rating = pd.read_csv('rating_wisbud.csv')\n",
        "wisata = pd.read_csv('wisbud_yogya.csv')\n",
        "user = pd.read_csv('user_wisbud.csv')"
      ]
    },
    {
      "cell_type": "markdown",
      "metadata": {
        "id": "21NDxf_c4MBE"
      },
      "source": [
        "3.2 Eksplorasi Fitur-fitur pada Data\n",
        "\n",
        "3.2.1. Data wisata"
      ]
    },
    {
      "cell_type": "code",
      "execution_count": 43,
      "metadata": {
        "id": "eSxzvki22mjL",
        "outputId": "f0e0bc3b-d331-4cfb-85d7-f44902e0b312",
        "colab": {
          "base_uri": "https://localhost:8080/",
          "height": 206
        }
      },
      "outputs": [
        {
          "output_type": "execute_result",
          "data": {
            "text/plain": [
              "   no                          nama_wisata  \\\n",
              "0   1                   Keraton Yogyakarta   \n",
              "1   2  Museum Benteng Vredeburg Yogyakarta   \n",
              "2   3                 De Mata Museum Jogja   \n",
              "3   4                Monumen Yogya Kembali   \n",
              "4   5             Kampung Wisata Kadipaten   \n",
              "\n",
              "                                              alamat  rating  harga_domestik  \\\n",
              "0  Jl. Rotowijayan Blok No. 1, Panembahan, Kecama...     4.6           15000   \n",
              "1  Jl. Margo Mulyo No.6, Ngupasan, Kec. Gondomana...     4.6            3000   \n",
              "2  XT Square, Jl. Veteran No.150-151, Pandeyan, K...     4.4           50000   \n",
              "3  Jl. Ring Road Utara, Jongkang, Sariharjo, Kec....     4.5           15000   \n",
              "4  Kadipaten, Kecamatan Kraton, Kota Yogyakarta, ...     4.4          175000   \n",
              "\n",
              "   harga_mancanegara                             link_gmaps           wilayah  \n",
              "0              25000  https://goo.gl/maps/mGh6qz6GB3zAzKPZ7   Kota Yogyakarta  \n",
              "1              10000  https://goo.gl/maps/UJ94oRi1pbTDrLH37   Kota Yogyakarta  \n",
              "2              50000  https://goo.gl/maps/ADnuFzMNzdmWcfhPA   Kota Yogyakarta  \n",
              "3              15000  https://goo.gl/maps/eHZrSEPXiNsDHJKX9  Kabupaten Sleman  \n",
              "4             175000  https://goo.gl/maps/wYCQxtY34Gk3nmDH7   Kota Yogyakarta  "
            ],
            "text/html": [
              "\n",
              "  <div id=\"df-c6180d64-556c-4659-9423-0f75580e66b9\">\n",
              "    <div class=\"colab-df-container\">\n",
              "      <div>\n",
              "<style scoped>\n",
              "    .dataframe tbody tr th:only-of-type {\n",
              "        vertical-align: middle;\n",
              "    }\n",
              "\n",
              "    .dataframe tbody tr th {\n",
              "        vertical-align: top;\n",
              "    }\n",
              "\n",
              "    .dataframe thead th {\n",
              "        text-align: right;\n",
              "    }\n",
              "</style>\n",
              "<table border=\"1\" class=\"dataframe\">\n",
              "  <thead>\n",
              "    <tr style=\"text-align: right;\">\n",
              "      <th></th>\n",
              "      <th>no</th>\n",
              "      <th>nama_wisata</th>\n",
              "      <th>alamat</th>\n",
              "      <th>rating</th>\n",
              "      <th>harga_domestik</th>\n",
              "      <th>harga_mancanegara</th>\n",
              "      <th>link_gmaps</th>\n",
              "      <th>wilayah</th>\n",
              "    </tr>\n",
              "  </thead>\n",
              "  <tbody>\n",
              "    <tr>\n",
              "      <th>0</th>\n",
              "      <td>1</td>\n",
              "      <td>Keraton Yogyakarta</td>\n",
              "      <td>Jl. Rotowijayan Blok No. 1, Panembahan, Kecama...</td>\n",
              "      <td>4.6</td>\n",
              "      <td>15000</td>\n",
              "      <td>25000</td>\n",
              "      <td>https://goo.gl/maps/mGh6qz6GB3zAzKPZ7</td>\n",
              "      <td>Kota Yogyakarta</td>\n",
              "    </tr>\n",
              "    <tr>\n",
              "      <th>1</th>\n",
              "      <td>2</td>\n",
              "      <td>Museum Benteng Vredeburg Yogyakarta</td>\n",
              "      <td>Jl. Margo Mulyo No.6, Ngupasan, Kec. Gondomana...</td>\n",
              "      <td>4.6</td>\n",
              "      <td>3000</td>\n",
              "      <td>10000</td>\n",
              "      <td>https://goo.gl/maps/UJ94oRi1pbTDrLH37</td>\n",
              "      <td>Kota Yogyakarta</td>\n",
              "    </tr>\n",
              "    <tr>\n",
              "      <th>2</th>\n",
              "      <td>3</td>\n",
              "      <td>De Mata Museum Jogja</td>\n",
              "      <td>XT Square, Jl. Veteran No.150-151, Pandeyan, K...</td>\n",
              "      <td>4.4</td>\n",
              "      <td>50000</td>\n",
              "      <td>50000</td>\n",
              "      <td>https://goo.gl/maps/ADnuFzMNzdmWcfhPA</td>\n",
              "      <td>Kota Yogyakarta</td>\n",
              "    </tr>\n",
              "    <tr>\n",
              "      <th>3</th>\n",
              "      <td>4</td>\n",
              "      <td>Monumen Yogya Kembali</td>\n",
              "      <td>Jl. Ring Road Utara, Jongkang, Sariharjo, Kec....</td>\n",
              "      <td>4.5</td>\n",
              "      <td>15000</td>\n",
              "      <td>15000</td>\n",
              "      <td>https://goo.gl/maps/eHZrSEPXiNsDHJKX9</td>\n",
              "      <td>Kabupaten Sleman</td>\n",
              "    </tr>\n",
              "    <tr>\n",
              "      <th>4</th>\n",
              "      <td>5</td>\n",
              "      <td>Kampung Wisata Kadipaten</td>\n",
              "      <td>Kadipaten, Kecamatan Kraton, Kota Yogyakarta, ...</td>\n",
              "      <td>4.4</td>\n",
              "      <td>175000</td>\n",
              "      <td>175000</td>\n",
              "      <td>https://goo.gl/maps/wYCQxtY34Gk3nmDH7</td>\n",
              "      <td>Kota Yogyakarta</td>\n",
              "    </tr>\n",
              "  </tbody>\n",
              "</table>\n",
              "</div>\n",
              "      <button class=\"colab-df-convert\" onclick=\"convertToInteractive('df-c6180d64-556c-4659-9423-0f75580e66b9')\"\n",
              "              title=\"Convert this dataframe to an interactive table.\"\n",
              "              style=\"display:none;\">\n",
              "        \n",
              "  <svg xmlns=\"http://www.w3.org/2000/svg\" height=\"24px\"viewBox=\"0 0 24 24\"\n",
              "       width=\"24px\">\n",
              "    <path d=\"M0 0h24v24H0V0z\" fill=\"none\"/>\n",
              "    <path d=\"M18.56 5.44l.94 2.06.94-2.06 2.06-.94-2.06-.94-.94-2.06-.94 2.06-2.06.94zm-11 1L8.5 8.5l.94-2.06 2.06-.94-2.06-.94L8.5 2.5l-.94 2.06-2.06.94zm10 10l.94 2.06.94-2.06 2.06-.94-2.06-.94-.94-2.06-.94 2.06-2.06.94z\"/><path d=\"M17.41 7.96l-1.37-1.37c-.4-.4-.92-.59-1.43-.59-.52 0-1.04.2-1.43.59L10.3 9.45l-7.72 7.72c-.78.78-.78 2.05 0 2.83L4 21.41c.39.39.9.59 1.41.59.51 0 1.02-.2 1.41-.59l7.78-7.78 2.81-2.81c.8-.78.8-2.07 0-2.86zM5.41 20L4 18.59l7.72-7.72 1.47 1.35L5.41 20z\"/>\n",
              "  </svg>\n",
              "      </button>\n",
              "      \n",
              "  <style>\n",
              "    .colab-df-container {\n",
              "      display:flex;\n",
              "      flex-wrap:wrap;\n",
              "      gap: 12px;\n",
              "    }\n",
              "\n",
              "    .colab-df-convert {\n",
              "      background-color: #E8F0FE;\n",
              "      border: none;\n",
              "      border-radius: 50%;\n",
              "      cursor: pointer;\n",
              "      display: none;\n",
              "      fill: #1967D2;\n",
              "      height: 32px;\n",
              "      padding: 0 0 0 0;\n",
              "      width: 32px;\n",
              "    }\n",
              "\n",
              "    .colab-df-convert:hover {\n",
              "      background-color: #E2EBFA;\n",
              "      box-shadow: 0px 1px 2px rgba(60, 64, 67, 0.3), 0px 1px 3px 1px rgba(60, 64, 67, 0.15);\n",
              "      fill: #174EA6;\n",
              "    }\n",
              "\n",
              "    [theme=dark] .colab-df-convert {\n",
              "      background-color: #3B4455;\n",
              "      fill: #D2E3FC;\n",
              "    }\n",
              "\n",
              "    [theme=dark] .colab-df-convert:hover {\n",
              "      background-color: #434B5C;\n",
              "      box-shadow: 0px 1px 3px 1px rgba(0, 0, 0, 0.15);\n",
              "      filter: drop-shadow(0px 1px 2px rgba(0, 0, 0, 0.3));\n",
              "      fill: #FFFFFF;\n",
              "    }\n",
              "  </style>\n",
              "\n",
              "      <script>\n",
              "        const buttonEl =\n",
              "          document.querySelector('#df-c6180d64-556c-4659-9423-0f75580e66b9 button.colab-df-convert');\n",
              "        buttonEl.style.display =\n",
              "          google.colab.kernel.accessAllowed ? 'block' : 'none';\n",
              "\n",
              "        async function convertToInteractive(key) {\n",
              "          const element = document.querySelector('#df-c6180d64-556c-4659-9423-0f75580e66b9');\n",
              "          const dataTable =\n",
              "            await google.colab.kernel.invokeFunction('convertToInteractive',\n",
              "                                                     [key], {});\n",
              "          if (!dataTable) return;\n",
              "\n",
              "          const docLinkHtml = 'Like what you see? Visit the ' +\n",
              "            '<a target=\"_blank\" href=https://colab.research.google.com/notebooks/data_table.ipynb>data table notebook</a>'\n",
              "            + ' to learn more about interactive tables.';\n",
              "          element.innerHTML = '';\n",
              "          dataTable['output_type'] = 'display_data';\n",
              "          await google.colab.output.renderOutput(dataTable, element);\n",
              "          const docLink = document.createElement('div');\n",
              "          docLink.innerHTML = docLinkHtml;\n",
              "          element.appendChild(docLink);\n",
              "        }\n",
              "      </script>\n",
              "    </div>\n",
              "  </div>\n",
              "  "
            ]
          },
          "metadata": {},
          "execution_count": 43
        }
      ],
      "source": [
        "wisata.head()"
      ]
    },
    {
      "cell_type": "code",
      "execution_count": 5,
      "metadata": {
        "colab": {
          "base_uri": "https://localhost:8080/"
        },
        "id": "FxtDNH2t4ubE",
        "outputId": "49dfe400-9aa1-4eaf-ed7a-696d48de6d24"
      },
      "outputs": [
        {
          "output_type": "stream",
          "name": "stdout",
          "text": [
            "<class 'pandas.core.frame.DataFrame'>\n",
            "RangeIndex: 39 entries, 0 to 38\n",
            "Data columns (total 8 columns):\n",
            " #   Column             Non-Null Count  Dtype  \n",
            "---  ------             --------------  -----  \n",
            " 0   no                 39 non-null     int64  \n",
            " 1   nama_wisata        39 non-null     object \n",
            " 2   alamat             39 non-null     object \n",
            " 3   rating             39 non-null     float64\n",
            " 4   harga_domestik     39 non-null     int64  \n",
            " 5   harga_mancanegara  39 non-null     int64  \n",
            " 6   link_gmaps         39 non-null     object \n",
            " 7   wilayah            39 non-null     object \n",
            "dtypes: float64(1), int64(3), object(4)\n",
            "memory usage: 2.6+ KB\n"
          ]
        }
      ],
      "source": [
        "wisata.info()"
      ]
    },
    {
      "cell_type": "markdown",
      "metadata": {
        "id": "I4OuTAa05CvC"
      },
      "source": [
        "3.2.2. Data rating"
      ]
    },
    {
      "cell_type": "code",
      "execution_count": 6,
      "metadata": {
        "colab": {
          "base_uri": "https://localhost:8080/",
          "height": 206
        },
        "id": "eYqwY7oe5EAX",
        "outputId": "b8cc6f8f-d01f-41b6-92e8-0897856c2618"
      },
      "outputs": [
        {
          "output_type": "execute_result",
          "data": {
            "text/plain": [
              "   id_user  no  rating\n",
              "0        1   3       3\n",
              "1        1   7       4\n",
              "2        1  20       3\n",
              "3        1  38       3\n",
              "4        2  10       2"
            ],
            "text/html": [
              "\n",
              "  <div id=\"df-3ba071eb-1b6d-481e-a4c4-01a1c627c19a\">\n",
              "    <div class=\"colab-df-container\">\n",
              "      <div>\n",
              "<style scoped>\n",
              "    .dataframe tbody tr th:only-of-type {\n",
              "        vertical-align: middle;\n",
              "    }\n",
              "\n",
              "    .dataframe tbody tr th {\n",
              "        vertical-align: top;\n",
              "    }\n",
              "\n",
              "    .dataframe thead th {\n",
              "        text-align: right;\n",
              "    }\n",
              "</style>\n",
              "<table border=\"1\" class=\"dataframe\">\n",
              "  <thead>\n",
              "    <tr style=\"text-align: right;\">\n",
              "      <th></th>\n",
              "      <th>id_user</th>\n",
              "      <th>no</th>\n",
              "      <th>rating</th>\n",
              "    </tr>\n",
              "  </thead>\n",
              "  <tbody>\n",
              "    <tr>\n",
              "      <th>0</th>\n",
              "      <td>1</td>\n",
              "      <td>3</td>\n",
              "      <td>3</td>\n",
              "    </tr>\n",
              "    <tr>\n",
              "      <th>1</th>\n",
              "      <td>1</td>\n",
              "      <td>7</td>\n",
              "      <td>4</td>\n",
              "    </tr>\n",
              "    <tr>\n",
              "      <th>2</th>\n",
              "      <td>1</td>\n",
              "      <td>20</td>\n",
              "      <td>3</td>\n",
              "    </tr>\n",
              "    <tr>\n",
              "      <th>3</th>\n",
              "      <td>1</td>\n",
              "      <td>38</td>\n",
              "      <td>3</td>\n",
              "    </tr>\n",
              "    <tr>\n",
              "      <th>4</th>\n",
              "      <td>2</td>\n",
              "      <td>10</td>\n",
              "      <td>2</td>\n",
              "    </tr>\n",
              "  </tbody>\n",
              "</table>\n",
              "</div>\n",
              "      <button class=\"colab-df-convert\" onclick=\"convertToInteractive('df-3ba071eb-1b6d-481e-a4c4-01a1c627c19a')\"\n",
              "              title=\"Convert this dataframe to an interactive table.\"\n",
              "              style=\"display:none;\">\n",
              "        \n",
              "  <svg xmlns=\"http://www.w3.org/2000/svg\" height=\"24px\"viewBox=\"0 0 24 24\"\n",
              "       width=\"24px\">\n",
              "    <path d=\"M0 0h24v24H0V0z\" fill=\"none\"/>\n",
              "    <path d=\"M18.56 5.44l.94 2.06.94-2.06 2.06-.94-2.06-.94-.94-2.06-.94 2.06-2.06.94zm-11 1L8.5 8.5l.94-2.06 2.06-.94-2.06-.94L8.5 2.5l-.94 2.06-2.06.94zm10 10l.94 2.06.94-2.06 2.06-.94-2.06-.94-.94-2.06-.94 2.06-2.06.94z\"/><path d=\"M17.41 7.96l-1.37-1.37c-.4-.4-.92-.59-1.43-.59-.52 0-1.04.2-1.43.59L10.3 9.45l-7.72 7.72c-.78.78-.78 2.05 0 2.83L4 21.41c.39.39.9.59 1.41.59.51 0 1.02-.2 1.41-.59l7.78-7.78 2.81-2.81c.8-.78.8-2.07 0-2.86zM5.41 20L4 18.59l7.72-7.72 1.47 1.35L5.41 20z\"/>\n",
              "  </svg>\n",
              "      </button>\n",
              "      \n",
              "  <style>\n",
              "    .colab-df-container {\n",
              "      display:flex;\n",
              "      flex-wrap:wrap;\n",
              "      gap: 12px;\n",
              "    }\n",
              "\n",
              "    .colab-df-convert {\n",
              "      background-color: #E8F0FE;\n",
              "      border: none;\n",
              "      border-radius: 50%;\n",
              "      cursor: pointer;\n",
              "      display: none;\n",
              "      fill: #1967D2;\n",
              "      height: 32px;\n",
              "      padding: 0 0 0 0;\n",
              "      width: 32px;\n",
              "    }\n",
              "\n",
              "    .colab-df-convert:hover {\n",
              "      background-color: #E2EBFA;\n",
              "      box-shadow: 0px 1px 2px rgba(60, 64, 67, 0.3), 0px 1px 3px 1px rgba(60, 64, 67, 0.15);\n",
              "      fill: #174EA6;\n",
              "    }\n",
              "\n",
              "    [theme=dark] .colab-df-convert {\n",
              "      background-color: #3B4455;\n",
              "      fill: #D2E3FC;\n",
              "    }\n",
              "\n",
              "    [theme=dark] .colab-df-convert:hover {\n",
              "      background-color: #434B5C;\n",
              "      box-shadow: 0px 1px 3px 1px rgba(0, 0, 0, 0.15);\n",
              "      filter: drop-shadow(0px 1px 2px rgba(0, 0, 0, 0.3));\n",
              "      fill: #FFFFFF;\n",
              "    }\n",
              "  </style>\n",
              "\n",
              "      <script>\n",
              "        const buttonEl =\n",
              "          document.querySelector('#df-3ba071eb-1b6d-481e-a4c4-01a1c627c19a button.colab-df-convert');\n",
              "        buttonEl.style.display =\n",
              "          google.colab.kernel.accessAllowed ? 'block' : 'none';\n",
              "\n",
              "        async function convertToInteractive(key) {\n",
              "          const element = document.querySelector('#df-3ba071eb-1b6d-481e-a4c4-01a1c627c19a');\n",
              "          const dataTable =\n",
              "            await google.colab.kernel.invokeFunction('convertToInteractive',\n",
              "                                                     [key], {});\n",
              "          if (!dataTable) return;\n",
              "\n",
              "          const docLinkHtml = 'Like what you see? Visit the ' +\n",
              "            '<a target=\"_blank\" href=https://colab.research.google.com/notebooks/data_table.ipynb>data table notebook</a>'\n",
              "            + ' to learn more about interactive tables.';\n",
              "          element.innerHTML = '';\n",
              "          dataTable['output_type'] = 'display_data';\n",
              "          await google.colab.output.renderOutput(dataTable, element);\n",
              "          const docLink = document.createElement('div');\n",
              "          docLink.innerHTML = docLinkHtml;\n",
              "          element.appendChild(docLink);\n",
              "        }\n",
              "      </script>\n",
              "    </div>\n",
              "  </div>\n",
              "  "
            ]
          },
          "metadata": {},
          "execution_count": 6
        }
      ],
      "source": [
        "# melihat gambaran data rating\n",
        "rating.head()"
      ]
    },
    {
      "cell_type": "code",
      "execution_count": 7,
      "metadata": {
        "colab": {
          "base_uri": "https://localhost:8080/"
        },
        "id": "GK1-iylS5SQd",
        "outputId": "eee665ab-0c1f-4374-ce69-d804971d4244"
      },
      "outputs": [
        {
          "output_type": "stream",
          "name": "stdout",
          "text": [
            "<class 'pandas.core.frame.DataFrame'>\n",
            "RangeIndex: 861 entries, 0 to 860\n",
            "Data columns (total 3 columns):\n",
            " #   Column   Non-Null Count  Dtype\n",
            "---  ------   --------------  -----\n",
            " 0   id_user  861 non-null    int64\n",
            " 1   no       861 non-null    int64\n",
            " 2   rating   861 non-null    int64\n",
            "dtypes: int64(3)\n",
            "memory usage: 20.3 KB\n"
          ]
        }
      ],
      "source": [
        "rating.info()"
      ]
    },
    {
      "cell_type": "code",
      "execution_count": 8,
      "metadata": {
        "colab": {
          "base_uri": "https://localhost:8080/"
        },
        "id": "4qaKSKPo5uS9",
        "outputId": "39c9bb74-5480-42ef-e991-7f0515752020"
      },
      "outputs": [
        {
          "output_type": "execute_result",
          "data": {
            "text/plain": [
              "(861, 3)"
            ]
          },
          "metadata": {},
          "execution_count": 8
        }
      ],
      "source": [
        "# Melihat ukuran dataset rating untuk Kota Yogyakarta\n",
        "rating.shape"
      ]
    },
    {
      "cell_type": "markdown",
      "metadata": {
        "id": "lqULJ8KD51we"
      },
      "source": [
        "3.2.3. Data user"
      ]
    },
    {
      "cell_type": "code",
      "execution_count": 9,
      "metadata": {
        "colab": {
          "base_uri": "https://localhost:8080/",
          "height": 206
        },
        "id": "4xYT45l35wKH",
        "outputId": "10564417-e6ce-4c6d-a2b1-2be6add3c8ef"
      },
      "outputs": [
        {
          "output_type": "execute_result",
          "data": {
            "text/plain": [
              "   id_user                     lokasi  umur\n",
              "0        1      Semarang, Jawa Tengah    20\n",
              "1        2         Bekasi, Jawa Barat    21\n",
              "2        3        Cirebon, Jawa Barat    23\n",
              "3        4         Bekasi, Jawa Barat    21\n",
              "4        5  Lampung, Sumatera Selatan    20"
            ],
            "text/html": [
              "\n",
              "  <div id=\"df-11bdad8d-3119-45b9-a557-951cecc50af5\">\n",
              "    <div class=\"colab-df-container\">\n",
              "      <div>\n",
              "<style scoped>\n",
              "    .dataframe tbody tr th:only-of-type {\n",
              "        vertical-align: middle;\n",
              "    }\n",
              "\n",
              "    .dataframe tbody tr th {\n",
              "        vertical-align: top;\n",
              "    }\n",
              "\n",
              "    .dataframe thead th {\n",
              "        text-align: right;\n",
              "    }\n",
              "</style>\n",
              "<table border=\"1\" class=\"dataframe\">\n",
              "  <thead>\n",
              "    <tr style=\"text-align: right;\">\n",
              "      <th></th>\n",
              "      <th>id_user</th>\n",
              "      <th>lokasi</th>\n",
              "      <th>umur</th>\n",
              "    </tr>\n",
              "  </thead>\n",
              "  <tbody>\n",
              "    <tr>\n",
              "      <th>0</th>\n",
              "      <td>1</td>\n",
              "      <td>Semarang, Jawa Tengah</td>\n",
              "      <td>20</td>\n",
              "    </tr>\n",
              "    <tr>\n",
              "      <th>1</th>\n",
              "      <td>2</td>\n",
              "      <td>Bekasi, Jawa Barat</td>\n",
              "      <td>21</td>\n",
              "    </tr>\n",
              "    <tr>\n",
              "      <th>2</th>\n",
              "      <td>3</td>\n",
              "      <td>Cirebon, Jawa Barat</td>\n",
              "      <td>23</td>\n",
              "    </tr>\n",
              "    <tr>\n",
              "      <th>3</th>\n",
              "      <td>4</td>\n",
              "      <td>Bekasi, Jawa Barat</td>\n",
              "      <td>21</td>\n",
              "    </tr>\n",
              "    <tr>\n",
              "      <th>4</th>\n",
              "      <td>5</td>\n",
              "      <td>Lampung, Sumatera Selatan</td>\n",
              "      <td>20</td>\n",
              "    </tr>\n",
              "  </tbody>\n",
              "</table>\n",
              "</div>\n",
              "      <button class=\"colab-df-convert\" onclick=\"convertToInteractive('df-11bdad8d-3119-45b9-a557-951cecc50af5')\"\n",
              "              title=\"Convert this dataframe to an interactive table.\"\n",
              "              style=\"display:none;\">\n",
              "        \n",
              "  <svg xmlns=\"http://www.w3.org/2000/svg\" height=\"24px\"viewBox=\"0 0 24 24\"\n",
              "       width=\"24px\">\n",
              "    <path d=\"M0 0h24v24H0V0z\" fill=\"none\"/>\n",
              "    <path d=\"M18.56 5.44l.94 2.06.94-2.06 2.06-.94-2.06-.94-.94-2.06-.94 2.06-2.06.94zm-11 1L8.5 8.5l.94-2.06 2.06-.94-2.06-.94L8.5 2.5l-.94 2.06-2.06.94zm10 10l.94 2.06.94-2.06 2.06-.94-2.06-.94-.94-2.06-.94 2.06-2.06.94z\"/><path d=\"M17.41 7.96l-1.37-1.37c-.4-.4-.92-.59-1.43-.59-.52 0-1.04.2-1.43.59L10.3 9.45l-7.72 7.72c-.78.78-.78 2.05 0 2.83L4 21.41c.39.39.9.59 1.41.59.51 0 1.02-.2 1.41-.59l7.78-7.78 2.81-2.81c.8-.78.8-2.07 0-2.86zM5.41 20L4 18.59l7.72-7.72 1.47 1.35L5.41 20z\"/>\n",
              "  </svg>\n",
              "      </button>\n",
              "      \n",
              "  <style>\n",
              "    .colab-df-container {\n",
              "      display:flex;\n",
              "      flex-wrap:wrap;\n",
              "      gap: 12px;\n",
              "    }\n",
              "\n",
              "    .colab-df-convert {\n",
              "      background-color: #E8F0FE;\n",
              "      border: none;\n",
              "      border-radius: 50%;\n",
              "      cursor: pointer;\n",
              "      display: none;\n",
              "      fill: #1967D2;\n",
              "      height: 32px;\n",
              "      padding: 0 0 0 0;\n",
              "      width: 32px;\n",
              "    }\n",
              "\n",
              "    .colab-df-convert:hover {\n",
              "      background-color: #E2EBFA;\n",
              "      box-shadow: 0px 1px 2px rgba(60, 64, 67, 0.3), 0px 1px 3px 1px rgba(60, 64, 67, 0.15);\n",
              "      fill: #174EA6;\n",
              "    }\n",
              "\n",
              "    [theme=dark] .colab-df-convert {\n",
              "      background-color: #3B4455;\n",
              "      fill: #D2E3FC;\n",
              "    }\n",
              "\n",
              "    [theme=dark] .colab-df-convert:hover {\n",
              "      background-color: #434B5C;\n",
              "      box-shadow: 0px 1px 3px 1px rgba(0, 0, 0, 0.15);\n",
              "      filter: drop-shadow(0px 1px 2px rgba(0, 0, 0, 0.3));\n",
              "      fill: #FFFFFF;\n",
              "    }\n",
              "  </style>\n",
              "\n",
              "      <script>\n",
              "        const buttonEl =\n",
              "          document.querySelector('#df-11bdad8d-3119-45b9-a557-951cecc50af5 button.colab-df-convert');\n",
              "        buttonEl.style.display =\n",
              "          google.colab.kernel.accessAllowed ? 'block' : 'none';\n",
              "\n",
              "        async function convertToInteractive(key) {\n",
              "          const element = document.querySelector('#df-11bdad8d-3119-45b9-a557-951cecc50af5');\n",
              "          const dataTable =\n",
              "            await google.colab.kernel.invokeFunction('convertToInteractive',\n",
              "                                                     [key], {});\n",
              "          if (!dataTable) return;\n",
              "\n",
              "          const docLinkHtml = 'Like what you see? Visit the ' +\n",
              "            '<a target=\"_blank\" href=https://colab.research.google.com/notebooks/data_table.ipynb>data table notebook</a>'\n",
              "            + ' to learn more about interactive tables.';\n",
              "          element.innerHTML = '';\n",
              "          dataTable['output_type'] = 'display_data';\n",
              "          await google.colab.output.renderOutput(dataTable, element);\n",
              "          const docLink = document.createElement('div');\n",
              "          docLink.innerHTML = docLinkHtml;\n",
              "          element.appendChild(docLink);\n",
              "        }\n",
              "      </script>\n",
              "    </div>\n",
              "  </div>\n",
              "  "
            ]
          },
          "metadata": {},
          "execution_count": 9
        }
      ],
      "source": [
        "# Melihat gambaran data user\n",
        "user.head()"
      ]
    },
    {
      "cell_type": "code",
      "execution_count": 10,
      "metadata": {
        "colab": {
          "base_uri": "https://localhost:8080/"
        },
        "id": "dhxN8fHe6Fjj",
        "outputId": "d85a2b6b-4ae4-444e-afcb-b1d45a7e56d8"
      },
      "outputs": [
        {
          "output_type": "execute_result",
          "data": {
            "text/plain": [
              "(279, 3)"
            ]
          },
          "metadata": {},
          "execution_count": 10
        }
      ],
      "source": [
        "# Melihat dataset user yang pernah memberi rating pada wisata di Kota Yogyakarta\n",
        "user.shape"
      ]
    },
    {
      "cell_type": "markdown",
      "metadata": {
        "id": "zL5lPcZY6a3Z"
      },
      "source": [
        "## **4. DATA EXPLORATION**"
      ]
    },
    {
      "cell_type": "code",
      "execution_count": 11,
      "metadata": {
        "colab": {
          "base_uri": "https://localhost:8080/",
          "height": 515
        },
        "id": "XXEeByPe6Yvj",
        "outputId": "e6d68607-2478-4b0b-8137-7ae7a10d9d31"
      },
      "outputs": [
        {
          "output_type": "display_data",
          "data": {
            "text/plain": [
              "<Figure size 800x500 with 1 Axes>"
            ],
            "image/png": "[encoded data removed]"
          },
          "metadata": {}
        }
      ],
      "source": [
        "# Membuat dataframe berisi lokasi dengan jumlah rating terbanyak\n",
        "top_10 = rating['no'].value_counts().reset_index()[0:10]\n",
        "top_10 = pd.merge(top_10, wisata[['no','nama_wisata']], how='left', left_on='index', right_on='no')\n",
        "\n",
        "# Membuat visualisasi wisata dengan jumlah rating terbanyak\n",
        "plt.figure(figsize=(8,5))\n",
        "sns.barplot(x='no_x', y='nama_wisata', data=top_10)\n",
        "plt.title('Jumlah Tempat Wisata dengan Rating Terbanyak', pad=20)\n",
        "plt.ylabel('Wisata')\n",
        "plt.xlabel('Jumlah Rating')\n",
        "plt.show()"
      ]
    },
    {
      "cell_type": "code",
      "execution_count": 12,
      "metadata": {
        "colab": {
          "base_uri": "https://localhost:8080/",
          "height": 500
        },
        "id": "3pzYy7BG6pJr",
        "outputId": "71009bf5-a8f4-4be9-a0c0-7a17473e2f3c"
      },
      "outputs": [
        {
          "output_type": "display_data",
          "data": {
            "text/plain": [
              "<Figure size 640x480 with 1 Axes>"
            ],
            "image/png": "[encoded data removed]"
          },
          "metadata": {}
        }
      ],
      "source": [
        "# Membuat visualisasi jumlah wisata di Wilayah Yogyakarta\n",
        "sns.countplot(y='wilayah', data = wisata)\n",
        "plt.title('Perbandingan Jumlah Wisata di Wilayah Yogyakarta', pad=20)\n",
        "plt.show()"
      ]
    },
    {
      "cell_type": "code",
      "execution_count": 13,
      "metadata": {
        "colab": {
          "base_uri": "https://localhost:8080/",
          "height": 337
        },
        "id": "VsSVPXAU6xZ8",
        "outputId": "666a70a3-a312-4a97-b54b-78193d606b3f"
      },
      "outputs": [
        {
          "output_type": "display_data",
          "data": {
            "text/plain": [
              "<Figure size 500x300 with 1 Axes>"
            ],
            "image/png": "[encoded data removed]"
          },
          "metadata": {}
        }
      ],
      "source": [
        "# Membuat visualisasi distribusi usia user\n",
        "plt.figure(figsize=(5,3))\n",
        "sns.boxplot(user['umur']);\n",
        "plt.title('Distribusi Usia User', pad=20)\n",
        "plt.show()"
      ]
    },
    {
      "cell_type": "code",
      "execution_count": 14,
      "metadata": {
        "colab": {
          "base_uri": "https://localhost:8080/",
          "height": 361
        },
        "id": "Lok9wdUK64wU",
        "outputId": "17b565a5-b78c-48d0-b771-95be08496d92"
      },
      "outputs": [
        {
          "output_type": "display_data",
          "data": {
            "text/plain": [
              "<Figure size 700x300 with 1 Axes>"
            ],
            "image/png": "[encoded data removed]"
          },
          "metadata": {}
        }
      ],
      "source": [
        "# Membuat visualisasi distribusi harga untuk WNI\n",
        "plt.figure(figsize=(7,3))\n",
        "sns.boxplot(x=wisata[\"harga_domestik\"])\n",
        "plt.title('Distribusi Harga Masuk Wisata di Yogyakarta untuk WNI', pad=20)\n",
        "plt.show()"
      ]
    },
    {
      "cell_type": "code",
      "source": [
        "# Membuat visualisasi distribusi harga untuk WNA\n",
        "plt.figure(figsize=(7,3))\n",
        "sns.boxplot(x=wisata[\"harga_mancanegara\"])\n",
        "plt.title('Distribusi Harga Masuk Wisata di Yogyakarta untuk WNA', pad=20)\n",
        "plt.show()"
      ],
      "metadata": {
        "colab": {
          "base_uri": "https://localhost:8080/",
          "height": 361
        },
        "id": "qZFaQRoHpfs2",
        "outputId": "a422b58e-d748-49a0-d786-41648a12edd1"
      },
      "execution_count": 15,
      "outputs": [
        {
          "output_type": "display_data",
          "data": {
            "text/plain": [
              "<Figure size 700x300 with 1 Axes>"
            ],
            "image/png": "[encoded data removed]"
          },
          "metadata": {}
        }
      ]
    },
    {
      "cell_type": "code",
      "execution_count": 16,
      "metadata": {
        "colab": {
          "base_uri": "https://localhost:8080/",
          "height": 573
        },
        "id": "_x2m7yXj6_lc",
        "outputId": "af4b7ca5-1a24-4a2b-99c3-22581ae2781f"
      },
      "outputs": [
        {
          "output_type": "display_data",
          "data": {
            "text/plain": [
              "<Figure size 800x600 with 1 Axes>"
            ],
            "image/png": "[encoded data removed]"
          },
          "metadata": {}
        }
      ],
      "source": [
        "# Memfilter asal kota dari user\n",
        "askot = user['lokasi'].apply(lambda x : x.split(',')[0])\n",
        "\n",
        "# Visualisasi asal kota dari user\n",
        "plt.figure(figsize=(8,6))\n",
        "sns.countplot(y=askot)\n",
        "plt.title('Jumlah Asal Kota dari User')\n",
        "plt.show()"
      ]
    },
    {
      "cell_type": "markdown",
      "metadata": {
        "id": "Q9d8_tIL7J-h"
      },
      "source": [
        "## **5. PERSIAPAN DATA UNTUK PEMODELAN**"
      ]
    },
    {
      "cell_type": "markdown",
      "source": [
        "5.1. Membuat Salinan Data rating"
      ],
      "metadata": {
        "id": "dXTkiSNtp5Ed"
      }
    },
    {
      "cell_type": "code",
      "execution_count": 17,
      "metadata": {
        "colab": {
          "base_uri": "https://localhost:8080/",
          "height": 206
        },
        "id": "yrojtsK17FsX",
        "outputId": "d894a410-bad0-4a58-c02b-1840f63c45c1"
      },
      "outputs": [
        {
          "output_type": "execute_result",
          "data": {
            "text/plain": [
              "   id_user  no  rating\n",
              "0        1   3       3\n",
              "1        1   7       4\n",
              "2        1  20       3\n",
              "3        1  38       3\n",
              "4        2  10       2"
            ],
            "text/html": [
              "\n",
              "  <div id=\"df-e066d9dc-bde0-4250-8747-98b336b88e7f\">\n",
              "    <div class=\"colab-df-container\">\n",
              "      <div>\n",
              "<style scoped>\n",
              "    .dataframe tbody tr th:only-of-type {\n",
              "        vertical-align: middle;\n",
              "    }\n",
              "\n",
              "    .dataframe tbody tr th {\n",
              "        vertical-align: top;\n",
              "    }\n",
              "\n",
              "    .dataframe thead th {\n",
              "        text-align: right;\n",
              "    }\n",
              "</style>\n",
              "<table border=\"1\" class=\"dataframe\">\n",
              "  <thead>\n",
              "    <tr style=\"text-align: right;\">\n",
              "      <th></th>\n",
              "      <th>id_user</th>\n",
              "      <th>no</th>\n",
              "      <th>rating</th>\n",
              "    </tr>\n",
              "  </thead>\n",
              "  <tbody>\n",
              "    <tr>\n",
              "      <th>0</th>\n",
              "      <td>1</td>\n",
              "      <td>3</td>\n",
              "      <td>3</td>\n",
              "    </tr>\n",
              "    <tr>\n",
              "      <th>1</th>\n",
              "      <td>1</td>\n",
              "      <td>7</td>\n",
              "      <td>4</td>\n",
              "    </tr>\n",
              "    <tr>\n",
              "      <th>2</th>\n",
              "      <td>1</td>\n",
              "      <td>20</td>\n",
              "      <td>3</td>\n",
              "    </tr>\n",
              "    <tr>\n",
              "      <th>3</th>\n",
              "      <td>1</td>\n",
              "      <td>38</td>\n",
              "      <td>3</td>\n",
              "    </tr>\n",
              "    <tr>\n",
              "      <th>4</th>\n",
              "      <td>2</td>\n",
              "      <td>10</td>\n",
              "      <td>2</td>\n",
              "    </tr>\n",
              "  </tbody>\n",
              "</table>\n",
              "</div>\n",
              "      <button class=\"colab-df-convert\" onclick=\"convertToInteractive('df-e066d9dc-bde0-4250-8747-98b336b88e7f')\"\n",
              "              title=\"Convert this dataframe to an interactive table.\"\n",
              "              style=\"display:none;\">\n",
              "        \n",
              "  <svg xmlns=\"http://www.w3.org/2000/svg\" height=\"24px\"viewBox=\"0 0 24 24\"\n",
              "       width=\"24px\">\n",
              "    <path d=\"M0 0h24v24H0V0z\" fill=\"none\"/>\n",
              "    <path d=\"M18.56 5.44l.94 2.06.94-2.06 2.06-.94-2.06-.94-.94-2.06-.94 2.06-2.06.94zm-11 1L8.5 8.5l.94-2.06 2.06-.94-2.06-.94L8.5 2.5l-.94 2.06-2.06.94zm10 10l.94 2.06.94-2.06 2.06-.94-2.06-.94-.94-2.06-.94 2.06-2.06.94z\"/><path d=\"M17.41 7.96l-1.37-1.37c-.4-.4-.92-.59-1.43-.59-.52 0-1.04.2-1.43.59L10.3 9.45l-7.72 7.72c-.78.78-.78 2.05 0 2.83L4 21.41c.39.39.9.59 1.41.59.51 0 1.02-.2 1.41-.59l7.78-7.78 2.81-2.81c.8-.78.8-2.07 0-2.86zM5.41 20L4 18.59l7.72-7.72 1.47 1.35L5.41 20z\"/>\n",
              "  </svg>\n",
              "      </button>\n",
              "      \n",
              "  <style>\n",
              "    .colab-df-container {\n",
              "      display:flex;\n",
              "      flex-wrap:wrap;\n",
              "      gap: 12px;\n",
              "    }\n",
              "\n",
              "    .colab-df-convert {\n",
              "      background-color: #E8F0FE;\n",
              "      border: none;\n",
              "      border-radius: 50%;\n",
              "      cursor: pointer;\n",
              "      display: none;\n",
              "      fill: #1967D2;\n",
              "      height: 32px;\n",
              "      padding: 0 0 0 0;\n",
              "      width: 32px;\n",
              "    }\n",
              "\n",
              "    .colab-df-convert:hover {\n",
              "      background-color: #E2EBFA;\n",
              "      box-shadow: 0px 1px 2px rgba(60, 64, 67, 0.3), 0px 1px 3px 1px rgba(60, 64, 67, 0.15);\n",
              "      fill: #174EA6;\n",
              "    }\n",
              "\n",
              "    [theme=dark] .colab-df-convert {\n",
              "      background-color: #3B4455;\n",
              "      fill: #D2E3FC;\n",
              "    }\n",
              "\n",
              "    [theme=dark] .colab-df-convert:hover {\n",
              "      background-color: #434B5C;\n",
              "      box-shadow: 0px 1px 3px 1px rgba(0, 0, 0, 0.15);\n",
              "      filter: drop-shadow(0px 1px 2px rgba(0, 0, 0, 0.3));\n",
              "      fill: #FFFFFF;\n",
              "    }\n",
              "  </style>\n",
              "\n",
              "      <script>\n",
              "        const buttonEl =\n",
              "          document.querySelector('#df-e066d9dc-bde0-4250-8747-98b336b88e7f button.colab-df-convert');\n",
              "        buttonEl.style.display =\n",
              "          google.colab.kernel.accessAllowed ? 'block' : 'none';\n",
              "\n",
              "        async function convertToInteractive(key) {\n",
              "          const element = document.querySelector('#df-e066d9dc-bde0-4250-8747-98b336b88e7f');\n",
              "          const dataTable =\n",
              "            await google.colab.kernel.invokeFunction('convertToInteractive',\n",
              "                                                     [key], {});\n",
              "          if (!dataTable) return;\n",
              "\n",
              "          const docLinkHtml = 'Like what you see? Visit the ' +\n",
              "            '<a target=\"_blank\" href=https://colab.research.google.com/notebooks/data_table.ipynb>data table notebook</a>'\n",
              "            + ' to learn more about interactive tables.';\n",
              "          element.innerHTML = '';\n",
              "          dataTable['output_type'] = 'display_data';\n",
              "          await google.colab.output.renderOutput(dataTable, element);\n",
              "          const docLink = document.createElement('div');\n",
              "          docLink.innerHTML = docLinkHtml;\n",
              "          element.appendChild(docLink);\n",
              "        }\n",
              "      </script>\n",
              "    </div>\n",
              "  </div>\n",
              "  "
            ]
          },
          "metadata": {},
          "execution_count": 17
        }
      ],
      "source": [
        "# Membaca dataset untuk dilakukan encoding\n",
        "df = rating.copy()\n",
        "df.head()"
      ]
    },
    {
      "cell_type": "markdown",
      "metadata": {
        "id": "3iPF9yIm7WNT"
      },
      "source": [
        "5.2. Melakukan Encoding\n",
        "\n",
        "5.2.1. Membuat Fungsi untuk Melakukan Encoding"
      ]
    },
    {
      "cell_type": "code",
      "execution_count": 18,
      "metadata": {
        "id": "JoniHbP37TM1"
      },
      "outputs": [],
      "source": [
        "def dict_encoder(col, data=df):\n",
        "\n",
        "  # Mengubah kolom suatu dataframe menjadi list tanpa nilai yang sama\n",
        "  unique_val = data[col].unique().tolist()\n",
        "\n",
        "  # Melakukan encoding value kolom suatu dataframe ke angka\n",
        "  val_to_val_encoded = {x: i for i, x in enumerate(unique_val)}\n",
        "\n",
        "  # Melakukan proses encoding angka ke value dari kolom suatu dataframe\n",
        "  val_encoded_to_val = {i: x for i, x in enumerate(unique_val)}\n",
        "  return val_to_val_encoded, val_encoded_to_val"
      ]
    },
    {
      "cell_type": "markdown",
      "metadata": {
        "id": "48mJ4_Dm7nhe"
      },
      "source": [
        "5.2.2. Encoding dan Mapping Kolom User"
      ]
    },
    {
      "cell_type": "code",
      "execution_count": 19,
      "metadata": {
        "id": "q6zXvtob7iWw"
      },
      "outputs": [],
      "source": [
        "# Encoding User_Id\n",
        "user_to_user_encoded, user_encoded_to_user = dict_encoder('id_user')\n",
        "\n",
        "# Mapping User_Id ke dataframe\n",
        "df['user'] = df['id_user'].map(user_to_user_encoded)"
      ]
    },
    {
      "cell_type": "markdown",
      "metadata": {
        "id": "jbkJw3kg72GM"
      },
      "source": [
        "5.2.3. Encoding dan Mapping Kolom Place"
      ]
    },
    {
      "cell_type": "code",
      "execution_count": 20,
      "metadata": {
        "id": "dUDnsRzl7tsT"
      },
      "outputs": [],
      "source": [
        "# Encoding Place_Id\n",
        "wisata_to_wisata_encoded, wisata_encoded_to_wisata = dict_encoder('no')\n",
        "\n",
        "# Mapping Place_Id ke dataframe place\n",
        "df['wisata'] = df['no'].map(wisata_to_wisata_encoded)"
      ]
    },
    {
      "cell_type": "markdown",
      "metadata": {
        "id": "XNEHFo4e8And"
      },
      "source": [
        "5.3. Melihat Gambaran Data untuk Pemodelan"
      ]
    },
    {
      "cell_type": "code",
      "execution_count": 21,
      "metadata": {
        "colab": {
          "base_uri": "https://localhost:8080/"
        },
        "id": "AIKweNt677l6",
        "outputId": "ace3f919-fff5-4a54-db45-2e2f1c7201b6"
      },
      "outputs": [
        {
          "output_type": "stream",
          "name": "stdout",
          "text": [
            "Number of User: 279, Number of Wisata: 39, Min Rating: 1.0, Max Rating: 5.0\n"
          ]
        }
      ],
      "source": [
        "# Mendapatkan jumlah user dan place\n",
        "num_users, num_wisata = len(user_to_user_encoded), len(wisata_to_wisata_encoded)\n",
        "\n",
        "# Mengubah rating menjadi nilai float\n",
        "df['rating'] = df['rating'].values.astype(np.float32)\n",
        "\n",
        "# Mendapatkan nilai minimum dan maksimum rating\n",
        "min_rating, max_rating = min(df['rating']), max(df['rating'])\n",
        "\n",
        "print(f'Number of User: {num_users}, Number of Wisata: {num_wisata}, Min Rating: {min_rating}, Max Rating: {max_rating}')"
      ]
    },
    {
      "cell_type": "code",
      "execution_count": 22,
      "metadata": {
        "colab": {
          "base_uri": "https://localhost:8080/",
          "height": 112
        },
        "id": "Mh-L3pM28OSn",
        "outputId": "318daf61-9546-42a5-dee6-e7e100017c83"
      },
      "outputs": [
        {
          "output_type": "execute_result",
          "data": {
            "text/plain": [
              "     id_user  no  rating  user  wisata\n",
              "714      233   9     1.0   232      10\n",
              "605      196   6     2.0   195       9"
            ],
            "text/html": [
              "\n",
              "  <div id=\"df-0286a995-390c-4a75-82f6-9c7a8fd8cd9b\">\n",
              "    <div class=\"colab-df-container\">\n",
              "      <div>\n",
              "<style scoped>\n",
              "    .dataframe tbody tr th:only-of-type {\n",
              "        vertical-align: middle;\n",
              "    }\n",
              "\n",
              "    .dataframe tbody tr th {\n",
              "        vertical-align: top;\n",
              "    }\n",
              "\n",
              "    .dataframe thead th {\n",
              "        text-align: right;\n",
              "    }\n",
              "</style>\n",
              "<table border=\"1\" class=\"dataframe\">\n",
              "  <thead>\n",
              "    <tr style=\"text-align: right;\">\n",
              "      <th></th>\n",
              "      <th>id_user</th>\n",
              "      <th>no</th>\n",
              "      <th>rating</th>\n",
              "      <th>user</th>\n",
              "      <th>wisata</th>\n",
              "    </tr>\n",
              "  </thead>\n",
              "  <tbody>\n",
              "    <tr>\n",
              "      <th>714</th>\n",
              "      <td>233</td>\n",
              "      <td>9</td>\n",
              "      <td>1.0</td>\n",
              "      <td>232</td>\n",
              "      <td>10</td>\n",
              "    </tr>\n",
              "    <tr>\n",
              "      <th>605</th>\n",
              "      <td>196</td>\n",
              "      <td>6</td>\n",
              "      <td>2.0</td>\n",
              "      <td>195</td>\n",
              "      <td>9</td>\n",
              "    </tr>\n",
              "  </tbody>\n",
              "</table>\n",
              "</div>\n",
              "      <button class=\"colab-df-convert\" onclick=\"convertToInteractive('df-0286a995-390c-4a75-82f6-9c7a8fd8cd9b')\"\n",
              "              title=\"Convert this dataframe to an interactive table.\"\n",
              "              style=\"display:none;\">\n",
              "        \n",
              "  <svg xmlns=\"http://www.w3.org/2000/svg\" height=\"24px\"viewBox=\"0 0 24 24\"\n",
              "       width=\"24px\">\n",
              "    <path d=\"M0 0h24v24H0V0z\" fill=\"none\"/>\n",
              "    <path d=\"M18.56 5.44l.94 2.06.94-2.06 2.06-.94-2.06-.94-.94-2.06-.94 2.06-2.06.94zm-11 1L8.5 8.5l.94-2.06 2.06-.94-2.06-.94L8.5 2.5l-.94 2.06-2.06.94zm10 10l.94 2.06.94-2.06 2.06-.94-2.06-.94-.94-2.06-.94 2.06-2.06.94z\"/><path d=\"M17.41 7.96l-1.37-1.37c-.4-.4-.92-.59-1.43-.59-.52 0-1.04.2-1.43.59L10.3 9.45l-7.72 7.72c-.78.78-.78 2.05 0 2.83L4 21.41c.39.39.9.59 1.41.59.51 0 1.02-.2 1.41-.59l7.78-7.78 2.81-2.81c.8-.78.8-2.07 0-2.86zM5.41 20L4 18.59l7.72-7.72 1.47 1.35L5.41 20z\"/>\n",
              "  </svg>\n",
              "      </button>\n",
              "      \n",
              "  <style>\n",
              "    .colab-df-container {\n",
              "      display:flex;\n",
              "      flex-wrap:wrap;\n",
              "      gap: 12px;\n",
              "    }\n",
              "\n",
              "    .colab-df-convert {\n",
              "      background-color: #E8F0FE;\n",
              "      border: none;\n",
              "      border-radius: 50%;\n",
              "      cursor: pointer;\n",
              "      display: none;\n",
              "      fill: #1967D2;\n",
              "      height: 32px;\n",
              "      padding: 0 0 0 0;\n",
              "      width: 32px;\n",
              "    }\n",
              "\n",
              "    .colab-df-convert:hover {\n",
              "      background-color: #E2EBFA;\n",
              "      box-shadow: 0px 1px 2px rgba(60, 64, 67, 0.3), 0px 1px 3px 1px rgba(60, 64, 67, 0.15);\n",
              "      fill: #174EA6;\n",
              "    }\n",
              "\n",
              "    [theme=dark] .colab-df-convert {\n",
              "      background-color: #3B4455;\n",
              "      fill: #D2E3FC;\n",
              "    }\n",
              "\n",
              "    [theme=dark] .colab-df-convert:hover {\n",
              "      background-color: #434B5C;\n",
              "      box-shadow: 0px 1px 3px 1px rgba(0, 0, 0, 0.15);\n",
              "      filter: drop-shadow(0px 1px 2px rgba(0, 0, 0, 0.3));\n",
              "      fill: #FFFFFF;\n",
              "    }\n",
              "  </style>\n",
              "\n",
              "      <script>\n",
              "        const buttonEl =\n",
              "          document.querySelector('#df-0286a995-390c-4a75-82f6-9c7a8fd8cd9b button.colab-df-convert');\n",
              "        buttonEl.style.display =\n",
              "          google.colab.kernel.accessAllowed ? 'block' : 'none';\n",
              "\n",
              "        async function convertToInteractive(key) {\n",
              "          const element = document.querySelector('#df-0286a995-390c-4a75-82f6-9c7a8fd8cd9b');\n",
              "          const dataTable =\n",
              "            await google.colab.kernel.invokeFunction('convertToInteractive',\n",
              "                                                     [key], {});\n",
              "          if (!dataTable) return;\n",
              "\n",
              "          const docLinkHtml = 'Like what you see? Visit the ' +\n",
              "            '<a target=\"_blank\" href=https://colab.research.google.com/notebooks/data_table.ipynb>data table notebook</a>'\n",
              "            + ' to learn more about interactive tables.';\n",
              "          element.innerHTML = '';\n",
              "          dataTable['output_type'] = 'display_data';\n",
              "          await google.colab.output.renderOutput(dataTable, element);\n",
              "          const docLink = document.createElement('div');\n",
              "          docLink.innerHTML = docLinkHtml;\n",
              "          element.appendChild(docLink);\n",
              "        }\n",
              "      </script>\n",
              "    </div>\n",
              "  </div>\n",
              "  "
            ]
          },
          "metadata": {},
          "execution_count": 22
        }
      ],
      "source": [
        "# Mengacak dataset\n",
        "df = df.sample(frac=1, random_state=42)\n",
        "df.head(2)"
      ]
    },
    {
      "cell_type": "markdown",
      "metadata": {
        "id": "KFIiiPx78Y2p"
      },
      "source": [
        "## **6. MODELLING**"
      ]
    },
    {
      "cell_type": "markdown",
      "source": [
        "6.1. Membagi data train dan test"
      ],
      "metadata": {
        "id": "jrdx_dOFrel9"
      }
    },
    {
      "cell_type": "code",
      "execution_count": 23,
      "metadata": {
        "id": "iflWGQ6R8aYD"
      },
      "outputs": [],
      "source": [
        "# Membuat variabel x untuk mencocokkan data user dan place menjadi satu value\n",
        "x = df[['user', 'wisata']].values\n",
        "\n",
        "# Membuat variabel y untuk membuat rating dari hasil\n",
        "y = df['rating'].apply(lambda x: (x - min_rating) / (max_rating - min_rating)).values\n",
        "\n",
        "# Membagi menjadi 80% data train dan 20% data validasi\n",
        "train_indices = int(0.8 * df.shape[0])\n",
        "x_train, x_val, y_train, y_val = (\n",
        "    x[:train_indices],\n",
        "    x[train_indices:],\n",
        "    y[:train_indices],\n",
        "    y[train_indices:]\n",
        ")"
      ]
    },
    {
      "cell_type": "markdown",
      "metadata": {
        "id": "BKHV3yZf8rqM"
      },
      "source": [
        "6.2. Menyiapkan Model\n",
        "\n",
        "6.2.1. Inisialisasi Fungsi"
      ]
    },
    {
      "cell_type": "code",
      "execution_count": 24,
      "metadata": {
        "id": "2YZlP7sw8uHP"
      },
      "outputs": [],
      "source": [
        "class RecommenderNet(tf.keras.Model):\n",
        "\n",
        "  # Insialisasi fungsi\n",
        "  def __init__(self, num_users, num_places, embedding_size, **kwargs):\n",
        "    super(RecommenderNet, self).__init__(**kwargs)\n",
        "    self.num_users = num_users\n",
        "    self.num_wisata = num_wisata\n",
        "    self.embedding_size = embedding_size\n",
        "    self.user_embedding = layers.Embedding( # layer embedding user\n",
        "        num_users,\n",
        "        embedding_size,\n",
        "        embeddings_initializer = 'he_normal',\n",
        "        embeddings_regularizer = keras.regularizers.l2(1e-6)\n",
        "    )\n",
        "    self.user_bias = layers.Embedding(num_users, 1) # layer embedding user bias\n",
        "    self.wisatas_embedding = layers.Embedding( # layer embeddings places\n",
        "        num_wisata,\n",
        "        embedding_size,\n",
        "        embeddings_initializer = 'he_normal',\n",
        "        embeddings_regularizer = keras.regularizers.l2(1e-6)\n",
        "    )\n",
        "    self.wisatas_bias = layers.Embedding(num_wisata, 1) # layer embedding places bias\n",
        "\n",
        "  def call(self, inputs):\n",
        "    user_vector = self.user_embedding(inputs[:,0]) # memanggil layer embedding 1\n",
        "    user_bias = self.user_bias(inputs[:, 0]) # memanggil layer embedding 2\n",
        "    wisatas_vector = self.wisatas_embedding(inputs[:, 1]) # memanggil layer embedding 3\n",
        "    wisatas_bias = self.wisatas_bias(inputs[:, 1]) # memanggil layer embedding 4\n",
        "\n",
        "    dot_user_wisatas = tf.tensordot(user_vector, wisatas_vector, 2)\n",
        "\n",
        "    x = dot_user_wisatas + user_bias + wisatas_bias\n",
        "\n",
        "    return tf.nn.sigmoid(x) # activation sigmoid"
      ]
    },
    {
      "cell_type": "markdown",
      "metadata": {
        "id": "n8Yr52YK86Gj"
      },
      "source": [
        "6.2.2. Inisialisasi Model"
      ]
    },
    {
      "cell_type": "code",
      "execution_count": 25,
      "metadata": {
        "id": "Yc2eeWQC86-c"
      },
      "outputs": [],
      "source": [
        "model = RecommenderNet(num_users, num_wisata, 50) # inisialisasi model\n",
        "\n",
        "# model compile\n",
        "model.compile(\n",
        "    loss = tf.keras.losses.BinaryCrossentropy(),\n",
        "    optimizer = keras.optimizers.Adam(learning_rate=0.0004),\n",
        "    metrics=[tf.keras.metrics.RootMeanSquaredError()]\n",
        ")"
      ]
    },
    {
      "cell_type": "markdown",
      "metadata": {
        "id": "-iqB8G-f9mzF"
      },
      "source": [
        "6.2.2. Inisialisasi Callbacks"
      ]
    },
    {
      "cell_type": "code",
      "execution_count": 26,
      "metadata": {
        "id": "LiP_MCNj8_qx"
      },
      "outputs": [],
      "source": [
        "class myCallback(tf.keras.callbacks.Callback):\n",
        "  def on_epoch_end(self, epoch, logs={}):\n",
        "    if(logs.get('val_root_mean_squared_error')<0.25):\n",
        "      print('Lapor! Metriks validasi sudah sesuai harapan')\n",
        "      self.model.stop_training = True"
      ]
    },
    {
      "cell_type": "markdown",
      "metadata": {
        "id": "wQsNplx89thZ"
      },
      "source": [
        "6.2.3. Proses Training"
      ]
    },
    {
      "cell_type": "code",
      "execution_count": 27,
      "metadata": {
        "colab": {
          "base_uri": "https://localhost:8080/"
        },
        "id": "W-BqAz6z9rBI",
        "outputId": "d87112aa-47d5-4592-9511-98702025d4ef"
      },
      "outputs": [
        {
          "output_type": "stream",
          "name": "stdout",
          "text": [
            "Epoch 1/100\n",
            "22/22 [==============================] - 2s 15ms/step - loss: 0.7532 - root_mean_squared_error: 0.3824 - val_loss: 0.8856 - val_root_mean_squared_error: 0.4233\n",
            "Epoch 2/100\n",
            "22/22 [==============================] - 0s 4ms/step - loss: 0.8035 - root_mean_squared_error: 0.4099 - val_loss: 0.8789 - val_root_mean_squared_error: 0.4224\n",
            "Epoch 3/100\n",
            "22/22 [==============================] - 0s 5ms/step - loss: 0.7459 - root_mean_squared_error: 0.3819 - val_loss: 0.8742 - val_root_mean_squared_error: 0.4217\n",
            "Epoch 4/100\n",
            "22/22 [==============================] - 0s 4ms/step - loss: 0.7356 - root_mean_squared_error: 0.3751 - val_loss: 0.8730 - val_root_mean_squared_error: 0.4214\n",
            "Epoch 5/100\n",
            "22/22 [==============================] - 0s 5ms/step - loss: 0.7740 - root_mean_squared_error: 0.3946 - val_loss: 0.8704 - val_root_mean_squared_error: 0.4211\n",
            "Epoch 6/100\n",
            "22/22 [==============================] - 0s 4ms/step - loss: 0.7401 - root_mean_squared_error: 0.3774 - val_loss: 0.8688 - val_root_mean_squared_error: 0.4212\n",
            "Epoch 7/100\n",
            "22/22 [==============================] - 0s 4ms/step - loss: 0.7822 - root_mean_squared_error: 0.3995 - val_loss: 0.8639 - val_root_mean_squared_error: 0.4210\n",
            "Epoch 8/100\n",
            "22/22 [==============================] - 0s 4ms/step - loss: 0.7303 - root_mean_squared_error: 0.3706 - val_loss: 0.8609 - val_root_mean_squared_error: 0.4205\n",
            "Epoch 9/100\n",
            "22/22 [==============================] - 0s 4ms/step - loss: 0.7333 - root_mean_squared_error: 0.3728 - val_loss: 0.8573 - val_root_mean_squared_error: 0.4193\n",
            "Epoch 10/100\n",
            "22/22 [==============================] - 0s 3ms/step - loss: 0.7621 - root_mean_squared_error: 0.3872 - val_loss: 0.8550 - val_root_mean_squared_error: 0.4188\n",
            "Epoch 11/100\n",
            "22/22 [==============================] - 0s 3ms/step - loss: 0.7263 - root_mean_squared_error: 0.3692 - val_loss: 0.8543 - val_root_mean_squared_error: 0.4188\n",
            "Epoch 12/100\n",
            "22/22 [==============================] - 0s 4ms/step - loss: 0.7560 - root_mean_squared_error: 0.3854 - val_loss: 0.8515 - val_root_mean_squared_error: 0.4179\n",
            "Epoch 13/100\n",
            "22/22 [==============================] - 0s 4ms/step - loss: 0.7314 - root_mean_squared_error: 0.3720 - val_loss: 0.8502 - val_root_mean_squared_error: 0.4173\n",
            "Epoch 14/100\n",
            "22/22 [==============================] - 0s 4ms/step - loss: 0.7358 - root_mean_squared_error: 0.3763 - val_loss: 0.8508 - val_root_mean_squared_error: 0.4172\n",
            "Epoch 15/100\n",
            "22/22 [==============================] - 0s 4ms/step - loss: 0.7713 - root_mean_squared_error: 0.3921 - val_loss: 0.8454 - val_root_mean_squared_error: 0.4165\n",
            "Epoch 16/100\n",
            "22/22 [==============================] - 0s 4ms/step - loss: 0.7385 - root_mean_squared_error: 0.3773 - val_loss: 0.8388 - val_root_mean_squared_error: 0.4154\n",
            "Epoch 17/100\n",
            "22/22 [==============================] - 0s 4ms/step - loss: 0.7356 - root_mean_squared_error: 0.3739 - val_loss: 0.8317 - val_root_mean_squared_error: 0.4139\n",
            "Epoch 18/100\n",
            "22/22 [==============================] - 0s 3ms/step - loss: 0.7043 - root_mean_squared_error: 0.3559 - val_loss: 0.8258 - val_root_mean_squared_error: 0.4124\n",
            "Epoch 19/100\n",
            "22/22 [==============================] - 0s 4ms/step - loss: 0.7551 - root_mean_squared_error: 0.3807 - val_loss: 0.8179 - val_root_mean_squared_error: 0.4103\n",
            "Epoch 20/100\n",
            "22/22 [==============================] - 0s 4ms/step - loss: 0.7166 - root_mean_squared_error: 0.3641 - val_loss: 0.8160 - val_root_mean_squared_error: 0.4100\n",
            "Epoch 21/100\n",
            "22/22 [==============================] - 0s 4ms/step - loss: 0.7385 - root_mean_squared_error: 0.3779 - val_loss: 0.8139 - val_root_mean_squared_error: 0.4094\n",
            "Epoch 22/100\n",
            "22/22 [==============================] - 0s 4ms/step - loss: 0.7248 - root_mean_squared_error: 0.3669 - val_loss: 0.8160 - val_root_mean_squared_error: 0.4102\n",
            "Epoch 23/100\n",
            "22/22 [==============================] - 0s 4ms/step - loss: 0.7356 - root_mean_squared_error: 0.3756 - val_loss: 0.8130 - val_root_mean_squared_error: 0.4092\n",
            "Epoch 24/100\n",
            "22/22 [==============================] - 0s 7ms/step - loss: 0.7105 - root_mean_squared_error: 0.3603 - val_loss: 0.8101 - val_root_mean_squared_error: 0.4084\n",
            "Epoch 25/100\n",
            "22/22 [==============================] - 0s 6ms/step - loss: 0.7259 - root_mean_squared_error: 0.3675 - val_loss: 0.8015 - val_root_mean_squared_error: 0.4056\n",
            "Epoch 26/100\n",
            "22/22 [==============================] - 0s 6ms/step - loss: 0.6966 - root_mean_squared_error: 0.3513 - val_loss: 0.7964 - val_root_mean_squared_error: 0.4039\n",
            "Epoch 27/100\n",
            "22/22 [==============================] - 0s 5ms/step - loss: 0.7453 - root_mean_squared_error: 0.3816 - val_loss: 0.7961 - val_root_mean_squared_error: 0.4037\n",
            "Epoch 28/100\n",
            "22/22 [==============================] - 0s 6ms/step - loss: 0.7234 - root_mean_squared_error: 0.3679 - val_loss: 0.7966 - val_root_mean_squared_error: 0.4040\n",
            "Epoch 29/100\n",
            "22/22 [==============================] - 0s 6ms/step - loss: 0.7105 - root_mean_squared_error: 0.3606 - val_loss: 0.7961 - val_root_mean_squared_error: 0.4037\n",
            "Epoch 30/100\n",
            "22/22 [==============================] - 0s 5ms/step - loss: 0.7212 - root_mean_squared_error: 0.3667 - val_loss: 0.7985 - val_root_mean_squared_error: 0.4045\n",
            "Epoch 31/100\n",
            "22/22 [==============================] - 0s 7ms/step - loss: 0.6981 - root_mean_squared_error: 0.3522 - val_loss: 0.7971 - val_root_mean_squared_error: 0.4041\n",
            "Epoch 32/100\n",
            "22/22 [==============================] - 0s 8ms/step - loss: 0.7172 - root_mean_squared_error: 0.3648 - val_loss: 0.7970 - val_root_mean_squared_error: 0.4039\n",
            "Epoch 33/100\n",
            "22/22 [==============================] - 0s 6ms/step - loss: 0.7053 - root_mean_squared_error: 0.3570 - val_loss: 0.7967 - val_root_mean_squared_error: 0.4037\n",
            "Epoch 34/100\n",
            "22/22 [==============================] - 0s 5ms/step - loss: 0.6945 - root_mean_squared_error: 0.3493 - val_loss: 0.7954 - val_root_mean_squared_error: 0.4033\n",
            "Epoch 35/100\n",
            "22/22 [==============================] - 0s 6ms/step - loss: 0.7163 - root_mean_squared_error: 0.3643 - val_loss: 0.7925 - val_root_mean_squared_error: 0.4025\n",
            "Epoch 36/100\n",
            "22/22 [==============================] - 0s 5ms/step - loss: 0.7075 - root_mean_squared_error: 0.3579 - val_loss: 0.7886 - val_root_mean_squared_error: 0.4012\n",
            "Epoch 37/100\n",
            "22/22 [==============================] - 0s 5ms/step - loss: 0.6935 - root_mean_squared_error: 0.3489 - val_loss: 0.7896 - val_root_mean_squared_error: 0.4016\n",
            "Epoch 38/100\n",
            "22/22 [==============================] - 0s 6ms/step - loss: 0.7085 - root_mean_squared_error: 0.3591 - val_loss: 0.7882 - val_root_mean_squared_error: 0.4013\n",
            "Epoch 39/100\n",
            "22/22 [==============================] - 0s 6ms/step - loss: 0.6866 - root_mean_squared_error: 0.3441 - val_loss: 0.7869 - val_root_mean_squared_error: 0.4008\n",
            "Epoch 40/100\n",
            "22/22 [==============================] - 0s 6ms/step - loss: 0.6951 - root_mean_squared_error: 0.3493 - val_loss: 0.7869 - val_root_mean_squared_error: 0.4008\n",
            "Epoch 41/100\n",
            "22/22 [==============================] - 0s 6ms/step - loss: 0.6961 - root_mean_squared_error: 0.3509 - val_loss: 0.7849 - val_root_mean_squared_error: 0.4001\n",
            "Epoch 42/100\n",
            "22/22 [==============================] - 0s 5ms/step - loss: 0.6951 - root_mean_squared_error: 0.3504 - val_loss: 0.7815 - val_root_mean_squared_error: 0.3990\n",
            "Epoch 43/100\n",
            "22/22 [==============================] - 0s 7ms/step - loss: 0.6872 - root_mean_squared_error: 0.3448 - val_loss: 0.7778 - val_root_mean_squared_error: 0.3975\n",
            "Epoch 44/100\n",
            "22/22 [==============================] - 0s 6ms/step - loss: 0.7006 - root_mean_squared_error: 0.3537 - val_loss: 0.7736 - val_root_mean_squared_error: 0.3960\n",
            "Epoch 45/100\n",
            "22/22 [==============================] - 0s 4ms/step - loss: 0.6878 - root_mean_squared_error: 0.3449 - val_loss: 0.7712 - val_root_mean_squared_error: 0.3951\n",
            "Epoch 46/100\n",
            "22/22 [==============================] - 0s 4ms/step - loss: 0.6879 - root_mean_squared_error: 0.3444 - val_loss: 0.7700 - val_root_mean_squared_error: 0.3946\n",
            "Epoch 47/100\n",
            "22/22 [==============================] - 0s 4ms/step - loss: 0.6870 - root_mean_squared_error: 0.3444 - val_loss: 0.7679 - val_root_mean_squared_error: 0.3938\n",
            "Epoch 48/100\n",
            "22/22 [==============================] - 0s 4ms/step - loss: 0.6952 - root_mean_squared_error: 0.3498 - val_loss: 0.7669 - val_root_mean_squared_error: 0.3935\n",
            "Epoch 49/100\n",
            "22/22 [==============================] - 0s 5ms/step - loss: 0.6878 - root_mean_squared_error: 0.3451 - val_loss: 0.7660 - val_root_mean_squared_error: 0.3932\n",
            "Epoch 50/100\n",
            "22/22 [==============================] - 0s 4ms/step - loss: 0.6912 - root_mean_squared_error: 0.3467 - val_loss: 0.7630 - val_root_mean_squared_error: 0.3920\n",
            "Epoch 51/100\n",
            "22/22 [==============================] - 0s 4ms/step - loss: 0.7025 - root_mean_squared_error: 0.3551 - val_loss: 0.7611 - val_root_mean_squared_error: 0.3912\n",
            "Epoch 52/100\n",
            "22/22 [==============================] - 0s 4ms/step - loss: 0.7012 - root_mean_squared_error: 0.3543 - val_loss: 0.7607 - val_root_mean_squared_error: 0.3911\n",
            "Epoch 53/100\n",
            "22/22 [==============================] - 0s 4ms/step - loss: 0.6819 - root_mean_squared_error: 0.3410 - val_loss: 0.7623 - val_root_mean_squared_error: 0.3918\n",
            "Epoch 54/100\n",
            "22/22 [==============================] - 0s 4ms/step - loss: 0.6904 - root_mean_squared_error: 0.3464 - val_loss: 0.7619 - val_root_mean_squared_error: 0.3917\n",
            "Epoch 55/100\n",
            "22/22 [==============================] - 0s 4ms/step - loss: 0.6899 - root_mean_squared_error: 0.3465 - val_loss: 0.7593 - val_root_mean_squared_error: 0.3906\n",
            "Epoch 56/100\n",
            "22/22 [==============================] - 0s 4ms/step - loss: 0.6857 - root_mean_squared_error: 0.3438 - val_loss: 0.7586 - val_root_mean_squared_error: 0.3903\n",
            "Epoch 57/100\n",
            "22/22 [==============================] - 0s 5ms/step - loss: 0.6873 - root_mean_squared_error: 0.3448 - val_loss: 0.7595 - val_root_mean_squared_error: 0.3906\n",
            "Epoch 58/100\n",
            "22/22 [==============================] - 0s 4ms/step - loss: 0.6801 - root_mean_squared_error: 0.3395 - val_loss: 0.7611 - val_root_mean_squared_error: 0.3913\n",
            "Epoch 59/100\n",
            "22/22 [==============================] - 0s 4ms/step - loss: 0.6821 - root_mean_squared_error: 0.3411 - val_loss: 0.7611 - val_root_mean_squared_error: 0.3914\n",
            "Epoch 60/100\n",
            "22/22 [==============================] - 0s 4ms/step - loss: 0.6848 - root_mean_squared_error: 0.3431 - val_loss: 0.7601 - val_root_mean_squared_error: 0.3909\n",
            "Epoch 61/100\n",
            "22/22 [==============================] - 0s 4ms/step - loss: 0.6785 - root_mean_squared_error: 0.3384 - val_loss: 0.7586 - val_root_mean_squared_error: 0.3902\n",
            "Epoch 62/100\n",
            "22/22 [==============================] - 0s 5ms/step - loss: 0.6759 - root_mean_squared_error: 0.3367 - val_loss: 0.7571 - val_root_mean_squared_error: 0.3895\n",
            "Epoch 63/100\n",
            "22/22 [==============================] - 0s 4ms/step - loss: 0.6804 - root_mean_squared_error: 0.3398 - val_loss: 0.7568 - val_root_mean_squared_error: 0.3894\n",
            "Epoch 64/100\n",
            "22/22 [==============================] - 0s 3ms/step - loss: 0.6821 - root_mean_squared_error: 0.3409 - val_loss: 0.7593 - val_root_mean_squared_error: 0.3906\n",
            "Epoch 65/100\n",
            "22/22 [==============================] - 0s 4ms/step - loss: 0.6809 - root_mean_squared_error: 0.3403 - val_loss: 0.7565 - val_root_mean_squared_error: 0.3893\n",
            "Epoch 66/100\n",
            "22/22 [==============================] - 0s 4ms/step - loss: 0.6759 - root_mean_squared_error: 0.3365 - val_loss: 0.7556 - val_root_mean_squared_error: 0.3889\n",
            "Epoch 67/100\n",
            "22/22 [==============================] - 0s 4ms/step - loss: 0.6820 - root_mean_squared_error: 0.3411 - val_loss: 0.7543 - val_root_mean_squared_error: 0.3884\n",
            "Epoch 68/100\n",
            "22/22 [==============================] - 0s 4ms/step - loss: 0.6751 - root_mean_squared_error: 0.3360 - val_loss: 0.7533 - val_root_mean_squared_error: 0.3879\n",
            "Epoch 69/100\n",
            "22/22 [==============================] - 0s 4ms/step - loss: 0.6654 - root_mean_squared_error: 0.3290 - val_loss: 0.7539 - val_root_mean_squared_error: 0.3882\n",
            "Epoch 70/100\n",
            "22/22 [==============================] - 0s 3ms/step - loss: 0.6702 - root_mean_squared_error: 0.3324 - val_loss: 0.7543 - val_root_mean_squared_error: 0.3884\n",
            "Epoch 71/100\n",
            "22/22 [==============================] - 0s 4ms/step - loss: 0.6685 - root_mean_squared_error: 0.3313 - val_loss: 0.7537 - val_root_mean_squared_error: 0.3881\n",
            "Epoch 72/100\n",
            "22/22 [==============================] - 0s 4ms/step - loss: 0.6722 - root_mean_squared_error: 0.3340 - val_loss: 0.7539 - val_root_mean_squared_error: 0.3882\n",
            "Epoch 73/100\n",
            "22/22 [==============================] - 0s 4ms/step - loss: 0.6781 - root_mean_squared_error: 0.3385 - val_loss: 0.7543 - val_root_mean_squared_error: 0.3884\n",
            "Epoch 74/100\n",
            "22/22 [==============================] - 0s 4ms/step - loss: 0.6720 - root_mean_squared_error: 0.3338 - val_loss: 0.7514 - val_root_mean_squared_error: 0.3869\n",
            "Epoch 75/100\n",
            "22/22 [==============================] - 0s 4ms/step - loss: 0.6714 - root_mean_squared_error: 0.3335 - val_loss: 0.7497 - val_root_mean_squared_error: 0.3860\n",
            "Epoch 76/100\n",
            "22/22 [==============================] - 0s 4ms/step - loss: 0.6680 - root_mean_squared_error: 0.3308 - val_loss: 0.7489 - val_root_mean_squared_error: 0.3857\n",
            "Epoch 77/100\n",
            "22/22 [==============================] - 0s 4ms/step - loss: 0.6613 - root_mean_squared_error: 0.3259 - val_loss: 0.7490 - val_root_mean_squared_error: 0.3857\n",
            "Epoch 78/100\n",
            "22/22 [==============================] - 0s 4ms/step - loss: 0.6726 - root_mean_squared_error: 0.3344 - val_loss: 0.7481 - val_root_mean_squared_error: 0.3853\n",
            "Epoch 79/100\n",
            "22/22 [==============================] - 0s 4ms/step - loss: 0.6682 - root_mean_squared_error: 0.3310 - val_loss: 0.7479 - val_root_mean_squared_error: 0.3852\n",
            "Epoch 80/100\n",
            "22/22 [==============================] - 0s 4ms/step - loss: 0.6696 - root_mean_squared_error: 0.3320 - val_loss: 0.7491 - val_root_mean_squared_error: 0.3858\n",
            "Epoch 81/100\n",
            "22/22 [==============================] - 0s 4ms/step - loss: 0.6720 - root_mean_squared_error: 0.3337 - val_loss: 0.7498 - val_root_mean_squared_error: 0.3862\n",
            "Epoch 82/100\n",
            "22/22 [==============================] - 0s 4ms/step - loss: 0.6617 - root_mean_squared_error: 0.3262 - val_loss: 0.7502 - val_root_mean_squared_error: 0.3865\n",
            "Epoch 83/100\n",
            "22/22 [==============================] - 0s 4ms/step - loss: 0.6677 - root_mean_squared_error: 0.3307 - val_loss: 0.7505 - val_root_mean_squared_error: 0.3867\n",
            "Epoch 84/100\n",
            "22/22 [==============================] - 0s 4ms/step - loss: 0.6611 - root_mean_squared_error: 0.3260 - val_loss: 0.7507 - val_root_mean_squared_error: 0.3867\n",
            "Epoch 85/100\n",
            "22/22 [==============================] - 0s 4ms/step - loss: 0.6713 - root_mean_squared_error: 0.3335 - val_loss: 0.7504 - val_root_mean_squared_error: 0.3866\n",
            "Epoch 86/100\n",
            "22/22 [==============================] - 0s 4ms/step - loss: 0.6667 - root_mean_squared_error: 0.3299 - val_loss: 0.7497 - val_root_mean_squared_error: 0.3862\n",
            "Epoch 87/100\n",
            "22/22 [==============================] - 0s 3ms/step - loss: 0.6642 - root_mean_squared_error: 0.3280 - val_loss: 0.7484 - val_root_mean_squared_error: 0.3856\n",
            "Epoch 88/100\n",
            "22/22 [==============================] - 0s 4ms/step - loss: 0.6631 - root_mean_squared_error: 0.3275 - val_loss: 0.7477 - val_root_mean_squared_error: 0.3853\n",
            "Epoch 89/100\n",
            "22/22 [==============================] - 0s 4ms/step - loss: 0.6662 - root_mean_squared_error: 0.3295 - val_loss: 0.7468 - val_root_mean_squared_error: 0.3848\n",
            "Epoch 90/100\n",
            "22/22 [==============================] - 0s 4ms/step - loss: 0.6663 - root_mean_squared_error: 0.3297 - val_loss: 0.7476 - val_root_mean_squared_error: 0.3852\n",
            "Epoch 91/100\n",
            "22/22 [==============================] - 0s 4ms/step - loss: 0.6600 - root_mean_squared_error: 0.3249 - val_loss: 0.7496 - val_root_mean_squared_error: 0.3862\n",
            "Epoch 92/100\n",
            "22/22 [==============================] - 0s 4ms/step - loss: 0.6611 - root_mean_squared_error: 0.3257 - val_loss: 0.7494 - val_root_mean_squared_error: 0.3861\n",
            "Epoch 93/100\n",
            "22/22 [==============================] - 0s 3ms/step - loss: 0.6658 - root_mean_squared_error: 0.3292 - val_loss: 0.7500 - val_root_mean_squared_error: 0.3865\n",
            "Epoch 94/100\n",
            "22/22 [==============================] - 0s 5ms/step - loss: 0.6592 - root_mean_squared_error: 0.3243 - val_loss: 0.7497 - val_root_mean_squared_error: 0.3864\n",
            "Epoch 95/100\n",
            "22/22 [==============================] - 0s 4ms/step - loss: 0.6634 - root_mean_squared_error: 0.3275 - val_loss: 0.7493 - val_root_mean_squared_error: 0.3862\n",
            "Epoch 96/100\n",
            "22/22 [==============================] - 0s 4ms/step - loss: 0.6685 - root_mean_squared_error: 0.3314 - val_loss: 0.7496 - val_root_mean_squared_error: 0.3863\n",
            "Epoch 97/100\n",
            "22/22 [==============================] - 0s 5ms/step - loss: 0.6604 - root_mean_squared_error: 0.3252 - val_loss: 0.7501 - val_root_mean_squared_error: 0.3866\n",
            "Epoch 98/100\n",
            "22/22 [==============================] - 0s 4ms/step - loss: 0.6602 - root_mean_squared_error: 0.3250 - val_loss: 0.7501 - val_root_mean_squared_error: 0.3866\n",
            "Epoch 99/100\n",
            "22/22 [==============================] - 0s 5ms/step - loss: 0.6584 - root_mean_squared_error: 0.3236 - val_loss: 0.7499 - val_root_mean_squared_error: 0.3865\n",
            "Epoch 100/100\n",
            "22/22 [==============================] - 0s 5ms/step - loss: 0.6596 - root_mean_squared_error: 0.3246 - val_loss: 0.7513 - val_root_mean_squared_error: 0.3873\n"
          ]
        }
      ],
      "source": [
        "# Memulai training\n",
        "\n",
        "history = model.fit(\n",
        "    x = x_train,\n",
        "    y = y_train,\n",
        "    epochs = 100,\n",
        "    validation_data = (x_val, y_val),\n",
        "    callbacks = [myCallback()]\n",
        ")"
      ]
    },
    {
      "cell_type": "code",
      "execution_count": 34,
      "metadata": {
        "colab": {
          "base_uri": "https://localhost:8080/",
          "height": 480
        },
        "id": "Q5oy1UOQ9-UB",
        "outputId": "a2b601fa-2f84-41e7-976a-7b034bf4cb69"
      },
      "outputs": [
        {
          "output_type": "display_data",
          "data": {
            "text/plain": [
              "<Figure size 640x480 with 1 Axes>"
            ],
            "image/png": "[encoded data removed]"
          },
          "metadata": {}
        }
      ],
      "source": [
        "# Menampilkan plot loss dan validation\n",
        "\n",
        "plt.plot(history.history['root_mean_squared_error'])\n",
        "plt.plot(history.history['val_root_mean_squared_error'])\n",
        "plt.title('model_metrics')\n",
        "plt.ylabel('root_mean_squared_error')\n",
        "plt.xlabel('epoch')\n",
        "plt.ylim(ymin=0, ymax=0.5)\n",
        "plt.legend(['train', 'test'], loc='center left')\n",
        "plt.show()"
      ]
    },
    {
      "cell_type": "markdown",
      "metadata": {
        "id": "SOBGT2Uu-IPw"
      },
      "source": [
        "## **7. MEMPREDIKSI TOP 5**"
      ]
    },
    {
      "cell_type": "markdown",
      "source": [
        "\n",
        "7.1 Menyiapkan DataFrame untuk Menampilkan Hasil Rekomendasi"
      ],
      "metadata": {
        "id": "SB6KJ-yFtVZ5"
      }
    },
    {
      "cell_type": "code",
      "execution_count": 35,
      "metadata": {
        "id": "Eb4cI5J--FCH"
      },
      "outputs": [],
      "source": [
        "# Menyiapkan dataframe\n",
        "wisata_df = wisata[['no','nama_wisata','wilayah','rating','harga_domestik','harga_mancanegara']]\n",
        "wisata_df.columns = ['no','nama_wisata','wilayah','rating','harga_domestik','harga_mancanegara']\n",
        "df = rating.copy()"
      ]
    },
    {
      "cell_type": "markdown",
      "metadata": {
        "id": "mU1QHBoS-QhK"
      },
      "source": [
        "7.2. Menyiapkan contoh User untuk Menampilkan Rekomendasi\n",
        "\n",
        "7.2.1 Mencari User"
      ]
    },
    {
      "cell_type": "code",
      "execution_count": 36,
      "metadata": {
        "id": "pt9F83rq-NW_"
      },
      "outputs": [],
      "source": [
        "# Mengambil sample user\n",
        "id_user = df.id_user.sample(1).iloc[0]\n",
        "wisata_visited_by_user = df[df.id_user == id_user]"
      ]
    },
    {
      "cell_type": "markdown",
      "metadata": {
        "id": "Q0hZNJj6-YGO"
      },
      "source": [
        "7.2.2. Mencari Lokasi yang belum Dikunjungi User"
      ]
    },
    {
      "cell_type": "code",
      "execution_count": 37,
      "metadata": {
        "id": "JO_ctHOG-VYs"
      },
      "outputs": [],
      "source": [
        "# Membuat data lokasi yang belum dikunjungi user\n",
        "wisata_not_visited = wisata_df[~wisata_df['no'].isin(wisata_visited_by_user.no.values)]['no']\n",
        "place_not_visited = list(\n",
        "    set(wisata_not_visited)\n",
        "    .intersection(set(wisata_to_wisata_encoded.keys()))\n",
        ")\n",
        "\n",
        "wisata_not_visited = [[wisata_to_wisata_encoded.get(x)] for x in wisata_not_visited]\n",
        "user_encoder = user_to_user_encoded.get(id_user)\n",
        "user_wisata_array = np.hstack(\n",
        "    ([[user_encoder]] * len(wisata_not_visited), wisata_not_visited)\n",
        ")"
      ]
    },
    {
      "cell_type": "markdown",
      "metadata": {
        "id": "f6ZAEZ1V-jor"
      },
      "source": [
        "7.3. Menampilkan Hasil Rekomendasi untuk User"
      ]
    },
    {
      "cell_type": "code",
      "execution_count": 40,
      "metadata": {
        "colab": {
          "base_uri": "https://localhost:8080/"
        },
        "id": "lJJvwaW6-kW4",
        "outputId": "b96bf0bc-bf13-42f3-bbb0-c69437753b92"
      },
      "outputs": [
        {
          "output_type": "stream",
          "name": "stdout",
          "text": [
            "2/2 [==============================] - 0s 10ms/step\n",
            "Daftar rekomendasi untuk: User 191\n",
            "============================================= \n",
            "\n",
            "------------------------------------------------------------\n",
            "Tempat dengan rating wisata paling tinggi dari user\n",
            "------------------------------------------------------------\n",
            "Museum Benteng Vredeburg Yogyakarta : Kota Yogyakarta\n",
            "Monumen Batik Yogyakarta : Kota Yogyakarta\n",
            "Lava Bantal : Kabupaten Sleman\n",
            "Candi Gebang : Kabupaten Sleman\n",
            "Museum Wayang Kekayon : Kabupaten Bantul\n",
            "\n",
            "------------------------------------------------------------\n",
            "Top 5 place recommendation\n",
            "------------------------------------------------------------\n",
            "1 . Keraton Yogyakarta \n",
            "     Kota Yogyakarta \n",
            "     Harga WNI: 15000 \n",
            "     Harga WNA: 25000 \n",
            "     Rating Wisata  4.6 \n",
            "\n",
            "2 . Monumen Yogya Kembali \n",
            "     Kabupaten Sleman \n",
            "     Harga WNI: 15000 \n",
            "     Harga WNA: 15000 \n",
            "     Rating Wisata  4.5 \n",
            "\n",
            "3 . Taman Budaya Yogyakarta \n",
            "     Kota Yogyakarta \n",
            "     Harga WNI: 0 \n",
            "     Harga WNA: 0 \n",
            "     Rating Wisata  4.6 \n",
            "\n",
            "4 . Museum Kereta Keraton Yogyakarta \n",
            "     Kota Yogyakarta \n",
            "     Harga WNI: 20000 \n",
            "     Harga WNA: 30000 \n",
            "     Rating Wisata  4.7 \n",
            "\n",
            "5 . Bangsal Sri Manganti \n",
            "     Kota Yogyakarta \n",
            "     Harga WNI: 8000 \n",
            "     Harga WNA: 15000 \n",
            "     Rating Wisata  4.7 \n",
            "\n",
            "=============================================\n"
          ]
        }
      ],
      "source": [
        "# Mengambil top 5 recommendation\n",
        "ratings = model.predict(user_wisata_array).flatten()\n",
        "top_ratings_indices = ratings.argsort()[-7:][::-1]\n",
        "recommended_no = [\n",
        "    wisata_encoded_to_wisata.get(wisata_not_visited[x][0]) for x in top_ratings_indices\n",
        "]\n",
        "\n",
        "print('Daftar rekomendasi untuk: {}'.format('User ' + str(id_user)))\n",
        "print('===' * 15,'\\n')\n",
        "print('----' * 15)\n",
        "print('Tempat dengan rating wisata paling tinggi dari user')\n",
        "print('----' * 15)\n",
        "\n",
        "top_wisata_user = (\n",
        "    wisata_visited_by_user.sort_values(\n",
        "        by = 'rating',\n",
        "        ascending=False\n",
        "    )\n",
        "    .head(5)\n",
        "    .no.values\n",
        ")\n",
        "\n",
        "wisata_df_rows = wisata_df[wisata_df['no'].isin(top_wisata_user)]\n",
        "for row in wisata_df_rows.itertuples():\n",
        "    print(row.nama_wisata, ':', row.wilayah)\n",
        "\n",
        "print('')\n",
        "print('----' * 15)\n",
        "print('Top 5 place recommendation')\n",
        "print('----' * 15)\n",
        "\n",
        "recommended_wisata = wisata_df[wisata_df['no'].isin(recommended_no)]\n",
        "for row, i in zip(recommended_wisata.itertuples(), range(1,6)):\n",
        "    print(i,'.', row.nama_wisata, '\\n    ', row.wilayah, '\\n    ', 'Harga WNI:', row.harga_domestik, '\\n    ', 'Harga WNA:', row.harga_mancanegara, '\\n    ', 'Rating Wisata ', row.rating,'\\n')\n",
        "\n",
        "print('==='*15)"
      ]
    }
  ],
  "metadata": {
    "colab": {
      "provenance": [],
      "collapsed_sections": [
        "lJTjNBKLhRFV",
        "aklCiOFZ3W0d"
      ]
    },
    "kernelspec": {
      "display_name": "Python 3",
      "name": "python3"
    },
    "language_info": {
      "name": "python"
    }
  },
  "nbformat": 4,
  "nbformat_minor": 0
}