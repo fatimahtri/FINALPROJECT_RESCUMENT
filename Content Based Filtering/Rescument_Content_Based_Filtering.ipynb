{
  "nbformat": 4,
  "nbformat_minor": 0,
  "metadata": {
    "colab": {
      "provenance": []
    },
    "kernelspec": {
      "name": "python3",
      "display_name": "Python 3"
    },
    "language_info": {
      "name": "python"
    }
  },
  "cells": [
    {
      "cell_type": "markdown",
      "source": [
        "## **1. IMPORT LIBRARY**"
      ],
      "metadata": {
        "id": "HU_wUNgVivz9"
      }
    },
    {
      "cell_type": "code",
      "execution_count": 108,
      "metadata": {
        "id": "zfgGTwd8o_qz"
      },
      "outputs": [],
      "source": [
        "import pandas as pd\n",
        "import numpy as np\n",
        "from sklearn.metrics.pairwise import cosine_similarity\n",
        "from sklearn.feature_extraction.text import TfidfVectorizer\n",
        "from nltk.corpus import stopwords\n",
        "import re\n",
        "import random"
      ]
    },
    {
      "cell_type": "markdown",
      "source": [
        "## **2. DATASET**"
      ],
      "metadata": {
        "id": "asMvUSMki9K_"
      }
    },
    {
      "cell_type": "code",
      "source": [
        "df = pd.read_csv(\"wisbud_yogya.csv\")\n",
        "df.head()"
      ],
      "metadata": {
        "colab": {
          "base_uri": "https://localhost:8080/",
          "height": 0
        },
        "id": "QZz-lCn2i5vl",
        "outputId": "6c8c0f7f-3f17-4c1b-a955-7973faf3f589"
      },
      "execution_count": 109,
      "outputs": [
        {
          "output_type": "execute_result",
          "data": {
            "text/plain": [
              "   no                          nama_wisata  \\\n",
              "0   1                   Keraton Yogyakarta   \n",
              "1   2  Museum Benteng Vredeburg Yogyakarta   \n",
              "2   3                 De Mata Museum Jogja   \n",
              "3   4                Monumen Yogya Kembali   \n",
              "4   5             Kampung Wisata Kadipaten   \n",
              "\n",
              "                                              alamat  rating  harga_domestik  \\\n",
              "0  Jl. Rotowijayan Blok No. 1, Panembahan, Kecama...     4.6           15000   \n",
              "1  Jl. Margo Mulyo No.6, Ngupasan, Kec. Gondomana...     4.6            3000   \n",
              "2  XT Square, Jl. Veteran No.150-151, Pandeyan, K...     4.4           50000   \n",
              "3  Jl. Ring Road Utara, Jongkang, Sariharjo, Kec....     4.5           15000   \n",
              "4  Kadipaten, Kecamatan Kraton, Kota Yogyakarta, ...     4.4          175000   \n",
              "\n",
              "   harga_mancanegara                             link_gmaps           wilayah  \n",
              "0              25000  https://goo.gl/maps/mGh6qz6GB3zAzKPZ7   Kota Yogyakarta  \n",
              "1              10000  https://goo.gl/maps/UJ94oRi1pbTDrLH37   Kota Yogyakarta  \n",
              "2              50000  https://goo.gl/maps/ADnuFzMNzdmWcfhPA   Kota Yogyakarta  \n",
              "3              15000  https://goo.gl/maps/eHZrSEPXiNsDHJKX9  Kabupaten Sleman  \n",
              "4             175000  https://goo.gl/maps/wYCQxtY34Gk3nmDH7   Kota Yogyakarta  "
            ],
            "text/html": [
              "\n",
              "  <div id=\"df-97eaaa96-aaaf-4718-a530-e15f4eff79a2\">\n",
              "    <div class=\"colab-df-container\">\n",
              "      <div>\n",
              "<style scoped>\n",
              "    .dataframe tbody tr th:only-of-type {\n",
              "        vertical-align: middle;\n",
              "    }\n",
              "\n",
              "    .dataframe tbody tr th {\n",
              "        vertical-align: top;\n",
              "    }\n",
              "\n",
              "    .dataframe thead th {\n",
              "        text-align: right;\n",
              "    }\n",
              "</style>\n",
              "<table border=\"1\" class=\"dataframe\">\n",
              "  <thead>\n",
              "    <tr style=\"text-align: right;\">\n",
              "      <th></th>\n",
              "      <th>no</th>\n",
              "      <th>nama_wisata</th>\n",
              "      <th>alamat</th>\n",
              "      <th>rating</th>\n",
              "      <th>harga_domestik</th>\n",
              "      <th>harga_mancanegara</th>\n",
              "      <th>link_gmaps</th>\n",
              "      <th>wilayah</th>\n",
              "    </tr>\n",
              "  </thead>\n",
              "  <tbody>\n",
              "    <tr>\n",
              "      <th>0</th>\n",
              "      <td>1</td>\n",
              "      <td>Keraton Yogyakarta</td>\n",
              "      <td>Jl. Rotowijayan Blok No. 1, Panembahan, Kecama...</td>\n",
              "      <td>4.6</td>\n",
              "      <td>15000</td>\n",
              "      <td>25000</td>\n",
              "      <td>https://goo.gl/maps/mGh6qz6GB3zAzKPZ7</td>\n",
              "      <td>Kota Yogyakarta</td>\n",
              "    </tr>\n",
              "    <tr>\n",
              "      <th>1</th>\n",
              "      <td>2</td>\n",
              "      <td>Museum Benteng Vredeburg Yogyakarta</td>\n",
              "      <td>Jl. Margo Mulyo No.6, Ngupasan, Kec. Gondomana...</td>\n",
              "      <td>4.6</td>\n",
              "      <td>3000</td>\n",
              "      <td>10000</td>\n",
              "      <td>https://goo.gl/maps/UJ94oRi1pbTDrLH37</td>\n",
              "      <td>Kota Yogyakarta</td>\n",
              "    </tr>\n",
              "    <tr>\n",
              "      <th>2</th>\n",
              "      <td>3</td>\n",
              "      <td>De Mata Museum Jogja</td>\n",
              "      <td>XT Square, Jl. Veteran No.150-151, Pandeyan, K...</td>\n",
              "      <td>4.4</td>\n",
              "      <td>50000</td>\n",
              "      <td>50000</td>\n",
              "      <td>https://goo.gl/maps/ADnuFzMNzdmWcfhPA</td>\n",
              "      <td>Kota Yogyakarta</td>\n",
              "    </tr>\n",
              "    <tr>\n",
              "      <th>3</th>\n",
              "      <td>4</td>\n",
              "      <td>Monumen Yogya Kembali</td>\n",
              "      <td>Jl. Ring Road Utara, Jongkang, Sariharjo, Kec....</td>\n",
              "      <td>4.5</td>\n",
              "      <td>15000</td>\n",
              "      <td>15000</td>\n",
              "      <td>https://goo.gl/maps/eHZrSEPXiNsDHJKX9</td>\n",
              "      <td>Kabupaten Sleman</td>\n",
              "    </tr>\n",
              "    <tr>\n",
              "      <th>4</th>\n",
              "      <td>5</td>\n",
              "      <td>Kampung Wisata Kadipaten</td>\n",
              "      <td>Kadipaten, Kecamatan Kraton, Kota Yogyakarta, ...</td>\n",
              "      <td>4.4</td>\n",
              "      <td>175000</td>\n",
              "      <td>175000</td>\n",
              "      <td>https://goo.gl/maps/wYCQxtY34Gk3nmDH7</td>\n",
              "      <td>Kota Yogyakarta</td>\n",
              "    </tr>\n",
              "  </tbody>\n",
              "</table>\n",
              "</div>\n",
              "      <button class=\"colab-df-convert\" onclick=\"convertToInteractive('df-97eaaa96-aaaf-4718-a530-e15f4eff79a2')\"\n",
              "              title=\"Convert this dataframe to an interactive table.\"\n",
              "              style=\"display:none;\">\n",
              "        \n",
              "  <svg xmlns=\"http://www.w3.org/2000/svg\" height=\"24px\"viewBox=\"0 0 24 24\"\n",
              "       width=\"24px\">\n",
              "    <path d=\"M0 0h24v24H0V0z\" fill=\"none\"/>\n",
              "    <path d=\"M18.56 5.44l.94 2.06.94-2.06 2.06-.94-2.06-.94-.94-2.06-.94 2.06-2.06.94zm-11 1L8.5 8.5l.94-2.06 2.06-.94-2.06-.94L8.5 2.5l-.94 2.06-2.06.94zm10 10l.94 2.06.94-2.06 2.06-.94-2.06-.94-.94-2.06-.94 2.06-2.06.94z\"/><path d=\"M17.41 7.96l-1.37-1.37c-.4-.4-.92-.59-1.43-.59-.52 0-1.04.2-1.43.59L10.3 9.45l-7.72 7.72c-.78.78-.78 2.05 0 2.83L4 21.41c.39.39.9.59 1.41.59.51 0 1.02-.2 1.41-.59l7.78-7.78 2.81-2.81c.8-.78.8-2.07 0-2.86zM5.41 20L4 18.59l7.72-7.72 1.47 1.35L5.41 20z\"/>\n",
              "  </svg>\n",
              "      </button>\n",
              "      \n",
              "  <style>\n",
              "    .colab-df-container {\n",
              "      display:flex;\n",
              "      flex-wrap:wrap;\n",
              "      gap: 12px;\n",
              "    }\n",
              "\n",
              "    .colab-df-convert {\n",
              "      background-color: #E8F0FE;\n",
              "      border: none;\n",
              "      border-radius: 50%;\n",
              "      cursor: pointer;\n",
              "      display: none;\n",
              "      fill: #1967D2;\n",
              "      height: 32px;\n",
              "      padding: 0 0 0 0;\n",
              "      width: 32px;\n",
              "    }\n",
              "\n",
              "    .colab-df-convert:hover {\n",
              "      background-color: #E2EBFA;\n",
              "      box-shadow: 0px 1px 2px rgba(60, 64, 67, 0.3), 0px 1px 3px 1px rgba(60, 64, 67, 0.15);\n",
              "      fill: #174EA6;\n",
              "    }\n",
              "\n",
              "    [theme=dark] .colab-df-convert {\n",
              "      background-color: #3B4455;\n",
              "      fill: #D2E3FC;\n",
              "    }\n",
              "\n",
              "    [theme=dark] .colab-df-convert:hover {\n",
              "      background-color: #434B5C;\n",
              "      box-shadow: 0px 1px 3px 1px rgba(0, 0, 0, 0.15);\n",
              "      filter: drop-shadow(0px 1px 2px rgba(0, 0, 0, 0.3));\n",
              "      fill: #FFFFFF;\n",
              "    }\n",
              "  </style>\n",
              "\n",
              "      <script>\n",
              "        const buttonEl =\n",
              "          document.querySelector('#df-97eaaa96-aaaf-4718-a530-e15f4eff79a2 button.colab-df-convert');\n",
              "        buttonEl.style.display =\n",
              "          google.colab.kernel.accessAllowed ? 'block' : 'none';\n",
              "\n",
              "        async function convertToInteractive(key) {\n",
              "          const element = document.querySelector('#df-97eaaa96-aaaf-4718-a530-e15f4eff79a2');\n",
              "          const dataTable =\n",
              "            await google.colab.kernel.invokeFunction('convertToInteractive',\n",
              "                                                     [key], {});\n",
              "          if (!dataTable) return;\n",
              "\n",
              "          const docLinkHtml = 'Like what you see? Visit the ' +\n",
              "            '<a target=\"_blank\" href=https://colab.research.google.com/notebooks/data_table.ipynb>data table notebook</a>'\n",
              "            + ' to learn more about interactive tables.';\n",
              "          element.innerHTML = '';\n",
              "          dataTable['output_type'] = 'display_data';\n",
              "          await google.colab.output.renderOutput(dataTable, element);\n",
              "          const docLink = document.createElement('div');\n",
              "          docLink.innerHTML = docLinkHtml;\n",
              "          element.appendChild(docLink);\n",
              "        }\n",
              "      </script>\n",
              "    </div>\n",
              "  </div>\n",
              "  "
            ]
          },
          "metadata": {},
          "execution_count": 109
        }
      ]
    },
    {
      "cell_type": "code",
      "source": [
        "df.describe()"
      ],
      "metadata": {
        "colab": {
          "base_uri": "https://localhost:8080/",
          "height": 0
        },
        "id": "K__ON5m59Gi-",
        "outputId": "d12ce859-61f6-45bd-ffb3-777618be930a"
      },
      "execution_count": 110,
      "outputs": [
        {
          "output_type": "execute_result",
          "data": {
            "text/plain": [
              "              no     rating  harga_domestik  harga_mancanegara\n",
              "count  39.000000  39.000000       39.000000          39.000000\n",
              "mean   20.000000   4.551282    34333.333333       58564.102564\n",
              "std    11.401754   0.174525    59642.060985       98639.640497\n",
              "min     1.000000   4.100000        0.000000           0.000000\n",
              "25%    10.500000   4.400000     3000.000000        4000.000000\n",
              "50%    20.000000   4.600000    10000.000000       15000.000000\n",
              "75%    29.500000   4.700000    40000.000000       50000.000000\n",
              "max    39.000000   5.000000   250000.000000      373000.000000"
            ],
            "text/html": [
              "\n",
              "  <div id=\"df-83a348ae-c724-4c2e-b67b-5794d40870de\">\n",
              "    <div class=\"colab-df-container\">\n",
              "      <div>\n",
              "<style scoped>\n",
              "    .dataframe tbody tr th:only-of-type {\n",
              "        vertical-align: middle;\n",
              "    }\n",
              "\n",
              "    .dataframe tbody tr th {\n",
              "        vertical-align: top;\n",
              "    }\n",
              "\n",
              "    .dataframe thead th {\n",
              "        text-align: right;\n",
              "    }\n",
              "</style>\n",
              "<table border=\"1\" class=\"dataframe\">\n",
              "  <thead>\n",
              "    <tr style=\"text-align: right;\">\n",
              "      <th></th>\n",
              "      <th>no</th>\n",
              "      <th>rating</th>\n",
              "      <th>harga_domestik</th>\n",
              "      <th>harga_mancanegara</th>\n",
              "    </tr>\n",
              "  </thead>\n",
              "  <tbody>\n",
              "    <tr>\n",
              "      <th>count</th>\n",
              "      <td>39.000000</td>\n",
              "      <td>39.000000</td>\n",
              "      <td>39.000000</td>\n",
              "      <td>39.000000</td>\n",
              "    </tr>\n",
              "    <tr>\n",
              "      <th>mean</th>\n",
              "      <td>20.000000</td>\n",
              "      <td>4.551282</td>\n",
              "      <td>34333.333333</td>\n",
              "      <td>58564.102564</td>\n",
              "    </tr>\n",
              "    <tr>\n",
              "      <th>std</th>\n",
              "      <td>11.401754</td>\n",
              "      <td>0.174525</td>\n",
              "      <td>59642.060985</td>\n",
              "      <td>98639.640497</td>\n",
              "    </tr>\n",
              "    <tr>\n",
              "      <th>min</th>\n",
              "      <td>1.000000</td>\n",
              "      <td>4.100000</td>\n",
              "      <td>0.000000</td>\n",
              "      <td>0.000000</td>\n",
              "    </tr>\n",
              "    <tr>\n",
              "      <th>25%</th>\n",
              "      <td>10.500000</td>\n",
              "      <td>4.400000</td>\n",
              "      <td>3000.000000</td>\n",
              "      <td>4000.000000</td>\n",
              "    </tr>\n",
              "    <tr>\n",
              "      <th>50%</th>\n",
              "      <td>20.000000</td>\n",
              "      <td>4.600000</td>\n",
              "      <td>10000.000000</td>\n",
              "      <td>15000.000000</td>\n",
              "    </tr>\n",
              "    <tr>\n",
              "      <th>75%</th>\n",
              "      <td>29.500000</td>\n",
              "      <td>4.700000</td>\n",
              "      <td>40000.000000</td>\n",
              "      <td>50000.000000</td>\n",
              "    </tr>\n",
              "    <tr>\n",
              "      <th>max</th>\n",
              "      <td>39.000000</td>\n",
              "      <td>5.000000</td>\n",
              "      <td>250000.000000</td>\n",
              "      <td>373000.000000</td>\n",
              "    </tr>\n",
              "  </tbody>\n",
              "</table>\n",
              "</div>\n",
              "      <button class=\"colab-df-convert\" onclick=\"convertToInteractive('df-83a348ae-c724-4c2e-b67b-5794d40870de')\"\n",
              "              title=\"Convert this dataframe to an interactive table.\"\n",
              "              style=\"display:none;\">\n",
              "        \n",
              "  <svg xmlns=\"http://www.w3.org/2000/svg\" height=\"24px\"viewBox=\"0 0 24 24\"\n",
              "       width=\"24px\">\n",
              "    <path d=\"M0 0h24v24H0V0z\" fill=\"none\"/>\n",
              "    <path d=\"M18.56 5.44l.94 2.06.94-2.06 2.06-.94-2.06-.94-.94-2.06-.94 2.06-2.06.94zm-11 1L8.5 8.5l.94-2.06 2.06-.94-2.06-.94L8.5 2.5l-.94 2.06-2.06.94zm10 10l.94 2.06.94-2.06 2.06-.94-2.06-.94-.94-2.06-.94 2.06-2.06.94z\"/><path d=\"M17.41 7.96l-1.37-1.37c-.4-.4-.92-.59-1.43-.59-.52 0-1.04.2-1.43.59L10.3 9.45l-7.72 7.72c-.78.78-.78 2.05 0 2.83L4 21.41c.39.39.9.59 1.41.59.51 0 1.02-.2 1.41-.59l7.78-7.78 2.81-2.81c.8-.78.8-2.07 0-2.86zM5.41 20L4 18.59l7.72-7.72 1.47 1.35L5.41 20z\"/>\n",
              "  </svg>\n",
              "      </button>\n",
              "      \n",
              "  <style>\n",
              "    .colab-df-container {\n",
              "      display:flex;\n",
              "      flex-wrap:wrap;\n",
              "      gap: 12px;\n",
              "    }\n",
              "\n",
              "    .colab-df-convert {\n",
              "      background-color: #E8F0FE;\n",
              "      border: none;\n",
              "      border-radius: 50%;\n",
              "      cursor: pointer;\n",
              "      display: none;\n",
              "      fill: #1967D2;\n",
              "      height: 32px;\n",
              "      padding: 0 0 0 0;\n",
              "      width: 32px;\n",
              "    }\n",
              "\n",
              "    .colab-df-convert:hover {\n",
              "      background-color: #E2EBFA;\n",
              "      box-shadow: 0px 1px 2px rgba(60, 64, 67, 0.3), 0px 1px 3px 1px rgba(60, 64, 67, 0.15);\n",
              "      fill: #174EA6;\n",
              "    }\n",
              "\n",
              "    [theme=dark] .colab-df-convert {\n",
              "      background-color: #3B4455;\n",
              "      fill: #D2E3FC;\n",
              "    }\n",
              "\n",
              "    [theme=dark] .colab-df-convert:hover {\n",
              "      background-color: #434B5C;\n",
              "      box-shadow: 0px 1px 3px 1px rgba(0, 0, 0, 0.15);\n",
              "      filter: drop-shadow(0px 1px 2px rgba(0, 0, 0, 0.3));\n",
              "      fill: #FFFFFF;\n",
              "    }\n",
              "  </style>\n",
              "\n",
              "      <script>\n",
              "        const buttonEl =\n",
              "          document.querySelector('#df-83a348ae-c724-4c2e-b67b-5794d40870de button.colab-df-convert');\n",
              "        buttonEl.style.display =\n",
              "          google.colab.kernel.accessAllowed ? 'block' : 'none';\n",
              "\n",
              "        async function convertToInteractive(key) {\n",
              "          const element = document.querySelector('#df-83a348ae-c724-4c2e-b67b-5794d40870de');\n",
              "          const dataTable =\n",
              "            await google.colab.kernel.invokeFunction('convertToInteractive',\n",
              "                                                     [key], {});\n",
              "          if (!dataTable) return;\n",
              "\n",
              "          const docLinkHtml = 'Like what you see? Visit the ' +\n",
              "            '<a target=\"_blank\" href=https://colab.research.google.com/notebooks/data_table.ipynb>data table notebook</a>'\n",
              "            + ' to learn more about interactive tables.';\n",
              "          element.innerHTML = '';\n",
              "          dataTable['output_type'] = 'display_data';\n",
              "          await google.colab.output.renderOutput(dataTable, element);\n",
              "          const docLink = document.createElement('div');\n",
              "          docLink.innerHTML = docLinkHtml;\n",
              "          element.appendChild(docLink);\n",
              "        }\n",
              "      </script>\n",
              "    </div>\n",
              "  </div>\n",
              "  "
            ]
          },
          "metadata": {},
          "execution_count": 110
        }
      ]
    },
    {
      "cell_type": "code",
      "source": [
        "df.info()"
      ],
      "metadata": {
        "id": "Z1VOUiqT9GeM",
        "colab": {
          "base_uri": "https://localhost:8080/"
        },
        "outputId": "4a7b3054-4218-4009-ebbb-1590cae2ae08"
      },
      "execution_count": 111,
      "outputs": [
        {
          "output_type": "stream",
          "name": "stdout",
          "text": [
            "<class 'pandas.core.frame.DataFrame'>\n",
            "RangeIndex: 39 entries, 0 to 38\n",
            "Data columns (total 8 columns):\n",
            " #   Column             Non-Null Count  Dtype  \n",
            "---  ------             --------------  -----  \n",
            " 0   no                 39 non-null     int64  \n",
            " 1   nama_wisata        39 non-null     object \n",
            " 2   alamat             39 non-null     object \n",
            " 3   rating             39 non-null     float64\n",
            " 4   harga_domestik     39 non-null     int64  \n",
            " 5   harga_mancanegara  39 non-null     int64  \n",
            " 6   link_gmaps         39 non-null     object \n",
            " 7   wilayah            39 non-null     object \n",
            "dtypes: float64(1), int64(3), object(4)\n",
            "memory usage: 2.6+ KB\n"
          ]
        }
      ]
    },
    {
      "cell_type": "code",
      "source": [
        "def print_description(index):\n",
        "    example = df[df.index == index][['nama_wisata', 'rating', 'harga_domestik', 'harga_mancanegara']].values[0]\n",
        "    if len(example) > 0:\n",
        "        print(example[0])\n",
        "        print('Rating:', example[1])\n",
        "        print('Harga WNI:', example[2])\n",
        "        print('Harga WNA:', example[3])"
      ],
      "metadata": {
        "id": "qpOH5rqz9GpT"
      },
      "execution_count": 112,
      "outputs": []
    },
    {
      "cell_type": "code",
      "source": [
        "print_description(0)"
      ],
      "metadata": {
        "id": "lwnMy6TM9Gx3",
        "colab": {
          "base_uri": "https://localhost:8080/"
        },
        "outputId": "cdc7ebc3-2747-44bf-e5fd-8e6b110eba54"
      },
      "execution_count": 113,
      "outputs": [
        {
          "output_type": "stream",
          "name": "stdout",
          "text": [
            "Keraton Yogyakarta\n",
            "Rating: 4.6\n",
            "Harga WNI: 15000\n",
            "Harga WNA: 25000\n"
          ]
        }
      ]
    },
    {
      "cell_type": "code",
      "source": [
        "print_description(8)"
      ],
      "metadata": {
        "colab": {
          "base_uri": "https://localhost:8080/"
        },
        "id": "Rab0tGQhJY9p",
        "outputId": "a93bb4d7-23fc-4138-df54-9e8aea90fc7c"
      },
      "execution_count": 114,
      "outputs": [
        {
          "output_type": "stream",
          "name": "stdout",
          "text": [
            "Tebing Breksi\n",
            "Rating: 4.4\n",
            "Harga WNI: 10000\n",
            "Harga WNA: 10000\n"
          ]
        }
      ]
    },
    {
      "cell_type": "code",
      "source": [
        "print_description(27)"
      ],
      "metadata": {
        "id": "tiYNGXrdJZEy",
        "colab": {
          "base_uri": "https://localhost:8080/"
        },
        "outputId": "f6e75797-73b2-4242-e5bd-a13a4e0fe78f"
      },
      "execution_count": 115,
      "outputs": [
        {
          "output_type": "stream",
          "name": "stdout",
          "text": [
            "Watu Goyang\n",
            "Rating: 4.4\n",
            "Harga WNI: 3000\n",
            "Harga WNA: 3000\n"
          ]
        }
      ]
    },
    {
      "cell_type": "markdown",
      "source": [
        "## **3. DATA PREPROCESSING**"
      ],
      "metadata": {
        "id": "zyHsSwYIjGXl"
      }
    },
    {
      "cell_type": "code",
      "source": [
        "import nltk\n",
        "nltk.download('stopwords')\n",
        "\n",
        "clean_spcl = re.compile('[/(){}\\[\\]\\|@,;]')\n",
        "clean_symbol = re.compile('[^0-9a-z #+_]')\n",
        "stopworda = set(stopwords.words('english'))\n",
        "\n",
        "def clean_text(text):\n",
        "    \"\"\"\n",
        "        text: a string\n",
        "\n",
        "        return: modified initial string\n",
        "    \"\"\"\n",
        "    text = text.lower() # lowercase text\n",
        "    text = clean_spcl.sub(' ', text)\n",
        "    text = clean_symbol.sub('', text)\n",
        "    text = ' '.join(word for word in text.split() if word not in stopworda)\n",
        "    return text\n",
        "\n",
        "df['desc_clean'] = df['nama_wisata'].apply(clean_text)\n",
        "df.head()"
      ],
      "metadata": {
        "colab": {
          "base_uri": "https://localhost:8080/",
          "height": 0
        },
        "id": "76FRhsPbXFMt",
        "outputId": "50dc2152-8a07-4264-d7e5-f4979f9c8561"
      },
      "execution_count": 116,
      "outputs": [
        {
          "output_type": "stream",
          "name": "stderr",
          "text": [
            "[nltk_data] Downloading package stopwords to /root/nltk_data...\n",
            "[nltk_data]   Package stopwords is already up-to-date!\n"
          ]
        },
        {
          "output_type": "execute_result",
          "data": {
            "text/plain": [
              "   no                          nama_wisata  \\\n",
              "0   1                   Keraton Yogyakarta   \n",
              "1   2  Museum Benteng Vredeburg Yogyakarta   \n",
              "2   3                 De Mata Museum Jogja   \n",
              "3   4                Monumen Yogya Kembali   \n",
              "4   5             Kampung Wisata Kadipaten   \n",
              "\n",
              "                                              alamat  rating  harga_domestik  \\\n",
              "0  Jl. Rotowijayan Blok No. 1, Panembahan, Kecama...     4.6           15000   \n",
              "1  Jl. Margo Mulyo No.6, Ngupasan, Kec. Gondomana...     4.6            3000   \n",
              "2  XT Square, Jl. Veteran No.150-151, Pandeyan, K...     4.4           50000   \n",
              "3  Jl. Ring Road Utara, Jongkang, Sariharjo, Kec....     4.5           15000   \n",
              "4  Kadipaten, Kecamatan Kraton, Kota Yogyakarta, ...     4.4          175000   \n",
              "\n",
              "   harga_mancanegara                             link_gmaps           wilayah  \\\n",
              "0              25000  https://goo.gl/maps/mGh6qz6GB3zAzKPZ7   Kota Yogyakarta   \n",
              "1              10000  https://goo.gl/maps/UJ94oRi1pbTDrLH37   Kota Yogyakarta   \n",
              "2              50000  https://goo.gl/maps/ADnuFzMNzdmWcfhPA   Kota Yogyakarta   \n",
              "3              15000  https://goo.gl/maps/eHZrSEPXiNsDHJKX9  Kabupaten Sleman   \n",
              "4             175000  https://goo.gl/maps/wYCQxtY34Gk3nmDH7   Kota Yogyakarta   \n",
              "\n",
              "                            desc_clean  \n",
              "0                   keraton yogyakarta  \n",
              "1  museum benteng vredeburg yogyakarta  \n",
              "2                 de mata museum jogja  \n",
              "3                monumen yogya kembali  \n",
              "4             kampung wisata kadipaten  "
            ],
            "text/html": [
              "\n",
              "  <div id=\"df-0ff62b87-76bc-4616-b4b9-3df3b5ac60d7\">\n",
              "    <div class=\"colab-df-container\">\n",
              "      <div>\n",
              "<style scoped>\n",
              "    .dataframe tbody tr th:only-of-type {\n",
              "        vertical-align: middle;\n",
              "    }\n",
              "\n",
              "    .dataframe tbody tr th {\n",
              "        vertical-align: top;\n",
              "    }\n",
              "\n",
              "    .dataframe thead th {\n",
              "        text-align: right;\n",
              "    }\n",
              "</style>\n",
              "<table border=\"1\" class=\"dataframe\">\n",
              "  <thead>\n",
              "    <tr style=\"text-align: right;\">\n",
              "      <th></th>\n",
              "      <th>no</th>\n",
              "      <th>nama_wisata</th>\n",
              "      <th>alamat</th>\n",
              "      <th>rating</th>\n",
              "      <th>harga_domestik</th>\n",
              "      <th>harga_mancanegara</th>\n",
              "      <th>link_gmaps</th>\n",
              "      <th>wilayah</th>\n",
              "      <th>desc_clean</th>\n",
              "    </tr>\n",
              "  </thead>\n",
              "  <tbody>\n",
              "    <tr>\n",
              "      <th>0</th>\n",
              "      <td>1</td>\n",
              "      <td>Keraton Yogyakarta</td>\n",
              "      <td>Jl. Rotowijayan Blok No. 1, Panembahan, Kecama...</td>\n",
              "      <td>4.6</td>\n",
              "      <td>15000</td>\n",
              "      <td>25000</td>\n",
              "      <td>https://goo.gl/maps/mGh6qz6GB3zAzKPZ7</td>\n",
              "      <td>Kota Yogyakarta</td>\n",
              "      <td>keraton yogyakarta</td>\n",
              "    </tr>\n",
              "    <tr>\n",
              "      <th>1</th>\n",
              "      <td>2</td>\n",
              "      <td>Museum Benteng Vredeburg Yogyakarta</td>\n",
              "      <td>Jl. Margo Mulyo No.6, Ngupasan, Kec. Gondomana...</td>\n",
              "      <td>4.6</td>\n",
              "      <td>3000</td>\n",
              "      <td>10000</td>\n",
              "      <td>https://goo.gl/maps/UJ94oRi1pbTDrLH37</td>\n",
              "      <td>Kota Yogyakarta</td>\n",
              "      <td>museum benteng vredeburg yogyakarta</td>\n",
              "    </tr>\n",
              "    <tr>\n",
              "      <th>2</th>\n",
              "      <td>3</td>\n",
              "      <td>De Mata Museum Jogja</td>\n",
              "      <td>XT Square, Jl. Veteran No.150-151, Pandeyan, K...</td>\n",
              "      <td>4.4</td>\n",
              "      <td>50000</td>\n",
              "      <td>50000</td>\n",
              "      <td>https://goo.gl/maps/ADnuFzMNzdmWcfhPA</td>\n",
              "      <td>Kota Yogyakarta</td>\n",
              "      <td>de mata museum jogja</td>\n",
              "    </tr>\n",
              "    <tr>\n",
              "      <th>3</th>\n",
              "      <td>4</td>\n",
              "      <td>Monumen Yogya Kembali</td>\n",
              "      <td>Jl. Ring Road Utara, Jongkang, Sariharjo, Kec....</td>\n",
              "      <td>4.5</td>\n",
              "      <td>15000</td>\n",
              "      <td>15000</td>\n",
              "      <td>https://goo.gl/maps/eHZrSEPXiNsDHJKX9</td>\n",
              "      <td>Kabupaten Sleman</td>\n",
              "      <td>monumen yogya kembali</td>\n",
              "    </tr>\n",
              "    <tr>\n",
              "      <th>4</th>\n",
              "      <td>5</td>\n",
              "      <td>Kampung Wisata Kadipaten</td>\n",
              "      <td>Kadipaten, Kecamatan Kraton, Kota Yogyakarta, ...</td>\n",
              "      <td>4.4</td>\n",
              "      <td>175000</td>\n",
              "      <td>175000</td>\n",
              "      <td>https://goo.gl/maps/wYCQxtY34Gk3nmDH7</td>\n",
              "      <td>Kota Yogyakarta</td>\n",
              "      <td>kampung wisata kadipaten</td>\n",
              "    </tr>\n",
              "  </tbody>\n",
              "</table>\n",
              "</div>\n",
              "      <button class=\"colab-df-convert\" onclick=\"convertToInteractive('df-0ff62b87-76bc-4616-b4b9-3df3b5ac60d7')\"\n",
              "              title=\"Convert this dataframe to an interactive table.\"\n",
              "              style=\"display:none;\">\n",
              "        \n",
              "  <svg xmlns=\"http://www.w3.org/2000/svg\" height=\"24px\"viewBox=\"0 0 24 24\"\n",
              "       width=\"24px\">\n",
              "    <path d=\"M0 0h24v24H0V0z\" fill=\"none\"/>\n",
              "    <path d=\"M18.56 5.44l.94 2.06.94-2.06 2.06-.94-2.06-.94-.94-2.06-.94 2.06-2.06.94zm-11 1L8.5 8.5l.94-2.06 2.06-.94-2.06-.94L8.5 2.5l-.94 2.06-2.06.94zm10 10l.94 2.06.94-2.06 2.06-.94-2.06-.94-.94-2.06-.94 2.06-2.06.94z\"/><path d=\"M17.41 7.96l-1.37-1.37c-.4-.4-.92-.59-1.43-.59-.52 0-1.04.2-1.43.59L10.3 9.45l-7.72 7.72c-.78.78-.78 2.05 0 2.83L4 21.41c.39.39.9.59 1.41.59.51 0 1.02-.2 1.41-.59l7.78-7.78 2.81-2.81c.8-.78.8-2.07 0-2.86zM5.41 20L4 18.59l7.72-7.72 1.47 1.35L5.41 20z\"/>\n",
              "  </svg>\n",
              "      </button>\n",
              "      \n",
              "  <style>\n",
              "    .colab-df-container {\n",
              "      display:flex;\n",
              "      flex-wrap:wrap;\n",
              "      gap: 12px;\n",
              "    }\n",
              "\n",
              "    .colab-df-convert {\n",
              "      background-color: #E8F0FE;\n",
              "      border: none;\n",
              "      border-radius: 50%;\n",
              "      cursor: pointer;\n",
              "      display: none;\n",
              "      fill: #1967D2;\n",
              "      height: 32px;\n",
              "      padding: 0 0 0 0;\n",
              "      width: 32px;\n",
              "    }\n",
              "\n",
              "    .colab-df-convert:hover {\n",
              "      background-color: #E2EBFA;\n",
              "      box-shadow: 0px 1px 2px rgba(60, 64, 67, 0.3), 0px 1px 3px 1px rgba(60, 64, 67, 0.15);\n",
              "      fill: #174EA6;\n",
              "    }\n",
              "\n",
              "    [theme=dark] .colab-df-convert {\n",
              "      background-color: #3B4455;\n",
              "      fill: #D2E3FC;\n",
              "    }\n",
              "\n",
              "    [theme=dark] .colab-df-convert:hover {\n",
              "      background-color: #434B5C;\n",
              "      box-shadow: 0px 1px 3px 1px rgba(0, 0, 0, 0.15);\n",
              "      filter: drop-shadow(0px 1px 2px rgba(0, 0, 0, 0.3));\n",
              "      fill: #FFFFFF;\n",
              "    }\n",
              "  </style>\n",
              "\n",
              "      <script>\n",
              "        const buttonEl =\n",
              "          document.querySelector('#df-0ff62b87-76bc-4616-b4b9-3df3b5ac60d7 button.colab-df-convert');\n",
              "        buttonEl.style.display =\n",
              "          google.colab.kernel.accessAllowed ? 'block' : 'none';\n",
              "\n",
              "        async function convertToInteractive(key) {\n",
              "          const element = document.querySelector('#df-0ff62b87-76bc-4616-b4b9-3df3b5ac60d7');\n",
              "          const dataTable =\n",
              "            await google.colab.kernel.invokeFunction('convertToInteractive',\n",
              "                                                     [key], {});\n",
              "          if (!dataTable) return;\n",
              "\n",
              "          const docLinkHtml = 'Like what you see? Visit the ' +\n",
              "            '<a target=\"_blank\" href=https://colab.research.google.com/notebooks/data_table.ipynb>data table notebook</a>'\n",
              "            + ' to learn more about interactive tables.';\n",
              "          element.innerHTML = '';\n",
              "          dataTable['output_type'] = 'display_data';\n",
              "          await google.colab.output.renderOutput(dataTable, element);\n",
              "          const docLink = document.createElement('div');\n",
              "          docLink.innerHTML = docLinkHtml;\n",
              "          element.appendChild(docLink);\n",
              "        }\n",
              "      </script>\n",
              "    </div>\n",
              "  </div>\n",
              "  "
            ]
          },
          "metadata": {},
          "execution_count": 116
        }
      ]
    },
    {
      "cell_type": "code",
      "source": [
        "def print_description_clean(index):\n",
        "    example = df[df.index == index][['nama_wisata', 'rating', 'harga_domestik', 'harga_mancanegara']].values[0]\n",
        "    if len(example) > 0:\n",
        "        print(example[0])\n",
        "        print('Rating:', example[1])\n",
        "        print('Harga WNI:', example[2])\n",
        "        print('Harga WNA:', example[3])\n",
        "print_description_clean(23)"
      ],
      "metadata": {
        "colab": {
          "base_uri": "https://localhost:8080/"
        },
        "id": "ugOvL-74XFVc",
        "outputId": "65b79ad8-dd55-4e84-dcbf-35f45dff2420"
      },
      "execution_count": 117,
      "outputs": [
        {
          "output_type": "stream",
          "name": "stdout",
          "text": [
            "Museum Seni Lukis Affandi Yogyakarta\n",
            "Rating: 4.6\n",
            "Harga WNI: 50000\n",
            "Harga WNA: 100000\n"
          ]
        }
      ]
    },
    {
      "cell_type": "markdown",
      "source": [
        "## **4. TF-IDF & COSINE SIMILARITY**"
      ],
      "metadata": {
        "id": "AQ6ql98HjSU3"
      }
    },
    {
      "cell_type": "code",
      "source": [
        "df.set_index('nama_wisata', inplace=True)\n",
        "tf = TfidfVectorizer(analyzer='word', ngram_range=(1, 3), min_df=0, stop_words='english')\n",
        "tfidf_matrix = tf.fit_transform(df['desc_clean'])\n",
        "cos_sim = cosine_similarity(tfidf_matrix, tfidf_matrix)\n",
        "cos_sim"
      ],
      "metadata": {
        "colab": {
          "base_uri": "https://localhost:8080/"
        },
        "id": "cDUMYoshXFc4",
        "outputId": "29383891-17a4-48b0-9e00-49076306e204"
      },
      "execution_count": 118,
      "outputs": [
        {
          "output_type": "execute_result",
          "data": {
            "text/plain": [
              "array([[1.        , 0.09015025, 0.        , ..., 0.        , 0.        ,\n",
              "        0.        ],\n",
              "       [0.09015025, 1.        , 0.05315005, ..., 0.05154566, 0.        ,\n",
              "        0.        ],\n",
              "       [0.        , 0.05315005, 1.        , ..., 0.06361192, 0.        ,\n",
              "        0.        ],\n",
              "       ...,\n",
              "       [0.        , 0.05154566, 0.06361192, ..., 1.        , 0.        ,\n",
              "        0.        ],\n",
              "       [0.        , 0.        , 0.        , ..., 0.        , 1.        ,\n",
              "        0.12815862],\n",
              "       [0.        , 0.        , 0.        , ..., 0.        , 0.12815862,\n",
              "        1.        ]])"
            ]
          },
          "metadata": {},
          "execution_count": 118
        }
      ]
    },
    {
      "cell_type": "code",
      "source": [
        "indices = pd.Series(df.index)\n",
        "indices[:50]"
      ],
      "metadata": {
        "colab": {
          "base_uri": "https://localhost:8080/"
        },
        "id": "u2HQ17-aXFiw",
        "outputId": "6e08b330-60e1-40ee-c48f-e3dc25ecea49"
      },
      "execution_count": 119,
      "outputs": [
        {
          "output_type": "execute_result",
          "data": {
            "text/plain": [
              "0                       Keraton Yogyakarta\n",
              "1      Museum Benteng Vredeburg Yogyakarta\n",
              "2                     De Mata Museum Jogja\n",
              "3                    Monumen Yogya Kembali\n",
              "4                 Kampung Wisata Kadipaten\n",
              "5                  Taman Budaya Yogyakarta\n",
              "6             Kampung Wisata Sosromenduran\n",
              "7                 Monumen Batik Yogyakarta\n",
              "8                            Tebing Breksi\n",
              "9                          Candi Donotirto\n",
              "10                       Bangsal Pagelaran\n",
              "11                 Gedung Agung Yogyakarta\n",
              "12                        Monumen Sanapati\n",
              "13                Museum Sonobudoyo Unit I\n",
              "14                             Lava Bantal\n",
              "15            Pagelaran Keraton Yogyakarta\n",
              "16                   Jogja National Museum\n",
              "17               Kampung Wisata Taman Sari\n",
              "18        Museum Kereta Keraton Yogyakarta\n",
              "19                      Ndalem Mangkubumen\n",
              "20                            Candi Gebang\n",
              "21                   Museum Wayang Kekayon\n",
              "22                    Bangsal Sri Manganti\n",
              "23    Museum Seni Lukis Affandi Yogyakarta\n",
              "24           Museum Wayang Beber Sekartaji\n",
              "25                   Bukit Panguk Kediwung\n",
              "26                         Candi Prambanan\n",
              "27                             Watu Goyang\n",
              "28             Kampung Wisata Rejowinangun\n",
              "29            Kauman Pakualaman Yogyakarta\n",
              "30      Alun-alun Utara Keraton Yogyakarta\n",
              "31         Bentara Budaya Yogyakarta (BBY)\n",
              "32                     Wisata Kraton Jogja\n",
              "33              Kampung Wisata Dipowinatan\n",
              "34                               Candi Ijo\n",
              "35                    Museum Ullen Sentalu\n",
              "36                 Museum Gunungapi Merapi\n",
              "37                         Candi Ratu Boko\n",
              "38                              Candi Sewu\n",
              "Name: nama_wisata, dtype: object"
            ]
          },
          "metadata": {},
          "execution_count": 119
        }
      ]
    },
    {
      "cell_type": "markdown",
      "source": [
        "## **5. MODELLING**"
      ],
      "metadata": {
        "id": "QRzZZI4PjiUH"
      }
    },
    {
      "cell_type": "code",
      "source": [
        "def recommendations(nama_wisata, cos_sim = cos_sim):\n",
        "\n",
        "    recommended_tourism = []\n",
        "\n",
        "    # Mengambil nama wisata berdasarkan variabel indicies\n",
        "    idx = indices[indices == nama_wisata].index[0]\n",
        "\n",
        "    # Membuat series berdasarkan skor kesamaan\n",
        "    score_series = pd.Series(cos_sim[idx]).sort_values(ascending = False)\n",
        "\n",
        "    # mengambil index dan dibuat 5 baris rekomendasi terbaik\n",
        "    top_5_indexes = list(score_series.iloc[1:6].index)\n",
        "\n",
        "    for i in top_5_indexes:\n",
        "        recommended_tourism.append(list(df.index)[i])\n",
        "\n",
        "    return recommended_tourism"
      ],
      "metadata": {
        "id": "-EPZWMs0XFon"
      },
      "execution_count": 120,
      "outputs": []
    },
    {
      "cell_type": "code",
      "source": [
        " # Fungsi untuk menghitung RMSE\n",
        "def calculate_rmse(predictions, targets):\n",
        "    mse = np.mean((predictions - targets) ** 2)\n",
        "    rmse = np.sqrt(mse)\n",
        "    return rmse\n",
        "\n",
        "# Fungsi untuk menampilkan visualisasi grafik RMSE\n",
        "def plot_rmse(predictions, targets):\n",
        "    plt.plot(targets, label='Actual')\n",
        "    plt.plot(predictions, label='Predicted')\n",
        "    plt.xlabel('Index')\n",
        "    plt.ylabel('RMSE')\n",
        "    plt.legend()\n",
        "    plt.show()\n",
        "\n",
        "# Fungsi untuk melakukan pemodelan dan menampilkan hasil\n",
        "def model_and_evaluate(data):\n",
        "    # Menggunakan contoh data untuk mendemonstrasikan pemodelan\n",
        "    actual_values = data['actual_values']\n",
        "    predicted_values = data['predicted_values']\n",
        "\n",
        "    # Menghitung RMSE\n",
        "    rmse = calculate_rmse(predicted_values, actual_values)\n",
        "    print('RMSE:', rmse)\n",
        "\n",
        "    # Menampilkan grafik RMSE\n",
        "    plot_rmse(predicted_values, actual_values)\n",
        "\n",
        "    # Menampilkan hasil prediksi dan perbandingan dengan data aktual\n",
        "    results = pd.DataFrame({'Actual': actual_values, 'Predicted': predicted_values})\n",
        "    print(results)\n",
        "\n",
        "# Menggunakan contoh data untuk mendemonstrasikan hasil pemodelan\n",
        "data = {\n",
        "    'actual_values': np.array([4, 5, 2, 3, 6]),\n",
        "    'predicted_values': np.array([3.5, 4.8, 2.2, 3.3, 5.7])\n",
        "}\n",
        "\n",
        "model_and_evaluate(data)"
      ],
      "metadata": {
        "colab": {
          "base_uri": "https://localhost:8080/",
          "height": 571
        },
        "id": "YJtsmgyPEF9J",
        "outputId": "2136802f-b6a8-4297-f97a-8894679cc6b6"
      },
      "execution_count": 124,
      "outputs": [
        {
          "output_type": "stream",
          "name": "stdout",
          "text": [
            "RMSE: 0.31937438845342625\n"
          ]
        },
        {
          "output_type": "display_data",
          "data": {
            "text/plain": [
              "<Figure size 640x480 with 1 Axes>"
            ],
            "image/png": "[encoded data removed]"
          },
          "metadata": {}
        },
        {
          "output_type": "stream",
          "name": "stdout",
          "text": [
            "   Actual  Predicted\n",
            "0       4        3.5\n",
            "1       5        4.8\n",
            "2       2        2.2\n",
            "3       3        3.3\n",
            "4       6        5.7\n"
          ]
        }
      ]
    },
    {
      "cell_type": "markdown",
      "source": [
        "## **6. MEMPREDIKSI TOP 5 YANG SESUAI SELERA PENGGUNA**"
      ],
      "metadata": {
        "id": "-zQ9PDoYjoWQ"
      }
    },
    {
      "cell_type": "code",
      "source": [
        "recommendations('Candi Ijo')"
      ],
      "metadata": {
        "colab": {
          "base_uri": "https://localhost:8080/"
        },
        "id": "LEuIUmdculht",
        "outputId": "ae6bef8d-77bd-41f4-c7b2-53083a4dd3bd"
      },
      "execution_count": 121,
      "outputs": [
        {
          "output_type": "execute_result",
          "data": {
            "text/plain": [
              "['Candi Sewu',\n",
              " 'Candi Prambanan',\n",
              " 'Candi Donotirto',\n",
              " 'Candi Gebang',\n",
              " 'Candi Ratu Boko']"
            ]
          },
          "metadata": {},
          "execution_count": 121
        }
      ]
    },
    {
      "cell_type": "code",
      "source": [
        "recommendations('Museum Benteng Vredeburg Yogyakarta')"
      ],
      "metadata": {
        "id": "tvfWy7XaJ9Nb",
        "colab": {
          "base_uri": "https://localhost:8080/"
        },
        "outputId": "6fda36f6-dfff-4804-c48d-2888fb40a709"
      },
      "execution_count": 122,
      "outputs": [
        {
          "output_type": "execute_result",
          "data": {
            "text/plain": [
              "['Keraton Yogyakarta',\n",
              " 'Museum Kereta Keraton Yogyakarta',\n",
              " 'Museum Seni Lukis Affandi Yogyakarta',\n",
              " 'Museum Wayang Kekayon',\n",
              " 'De Mata Museum Jogja']"
            ]
          },
          "metadata": {},
          "execution_count": 122
        }
      ]
    },
    {
      "cell_type": "code",
      "source": [
        "recommendations('Kampung Wisata Kadipaten')"
      ],
      "metadata": {
        "colab": {
          "base_uri": "https://localhost:8080/"
        },
        "id": "shiU7CdcZ6yc",
        "outputId": "109d5078-77ec-4b16-e95f-0b7641723b0a"
      },
      "execution_count": 123,
      "outputs": [
        {
          "output_type": "execute_result",
          "data": {
            "text/plain": [
              "['Kampung Wisata Rejowinangun',\n",
              " 'Kampung Wisata Sosromenduran',\n",
              " 'Kampung Wisata Dipowinatan',\n",
              " 'Kampung Wisata Taman Sari',\n",
              " 'Wisata Kraton Jogja']"
            ]
          },
          "metadata": {},
          "execution_count": 123
        }
      ]
    }
  ]
}